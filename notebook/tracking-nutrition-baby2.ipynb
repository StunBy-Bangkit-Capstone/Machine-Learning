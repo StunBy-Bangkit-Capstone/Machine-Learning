{
 "cells": [
  {
   "cell_type": "markdown",
   "metadata": {},
   "source": [
    "# Tracking Nutrition Baby"
   ]
  },
  {
   "cell_type": "code",
   "execution_count": null,
   "metadata": {
    "trusted": true
   },
   "outputs": [],
   "source": [
    "!mamba create -n py312 -y\n",
    "!source /opt/conda/bin/activate py312 && mamba install python=3.12 jupyter mamba -y\n",
    "\n",
    "!sudo rm /opt/conda/bin/python3\n",
    "!sudo ln -sf /opt/conda/envs/py312/bin/python3 /opt/conda/bin/python3\n",
    "!sudo rm /opt/conda/bin/python3.7 \n",
    "!sudo ln -sf /opt/conda/envs/py312/bin/python3 /opt/conda/bin/python3.7\n",
    "!sudo rm /opt/conda/bin/python\n",
    "!sudo ln -sf /opt/conda/envs/py312/bin/python3 /opt/conda/bin/python"
   ]
  },
  {
   "cell_type": "code",
   "execution_count": 1,
   "metadata": {
    "execution": {
     "iopub.execute_input": "2024-11-21T14:07:15.334604Z",
     "iopub.status.busy": "2024-11-21T14:07:15.334195Z",
     "iopub.status.idle": "2024-11-21T14:07:16.530895Z",
     "shell.execute_reply": "2024-11-21T14:07:16.529582Z",
     "shell.execute_reply.started": "2024-11-21T14:07:15.334565Z"
    },
    "trusted": true
   },
   "outputs": [
    {
     "name": "stdout",
     "output_type": "stream",
     "text": [
      "Python 3.12.7\n"
     ]
    }
   ],
   "source": [
    "!python --version"
   ]
  },
  {
   "cell_type": "code",
   "execution_count": 2,
   "metadata": {},
   "outputs": [
    {
     "name": "stdout",
     "output_type": "stream",
     "text": [
      "Name: tf_keras\n",
      "Version: 2.18.0\n",
      "Summary: Deep learning for humans.\n",
      "Home-page: https://keras.io/\n",
      "Author: Keras team\n",
      "Author-email: keras-users@googlegroups.com\n",
      "License: Apache 2.0\n",
      "Location: D:\\Development\\Python\\Python312\\Lib\\site-packages\n",
      "Requires: tensorflow\n",
      "Required-by: \n",
      "---\n",
      "Name: tensorflow\n",
      "Version: 2.18.0\n",
      "Summary: TensorFlow is an open source machine learning framework for everyone.\n",
      "Home-page: https://www.tensorflow.org/\n",
      "Author: Google Inc.\n",
      "Author-email: packages@tensorflow.org\n",
      "License: Apache 2.0\n",
      "Location: D:\\Development\\Python\\Python312\\Lib\\site-packages\n",
      "Requires: tensorflow-intel\n",
      "Required-by: tf_keras\n"
     ]
    }
   ],
   "source": [
    "!pip show tf-keras tensorflow"
   ]
  },
  {
   "cell_type": "code",
   "execution_count": 3,
   "metadata": {
    "execution": {
     "iopub.execute_input": "2024-11-21T14:07:39.877935Z",
     "iopub.status.busy": "2024-11-21T14:07:39.877241Z",
     "iopub.status.idle": "2024-11-21T14:07:53.064701Z",
     "shell.execute_reply": "2024-11-21T14:07:53.063121Z",
     "shell.execute_reply.started": "2024-11-21T14:07:39.877892Z"
    },
    "trusted": true
   },
   "outputs": [
    {
     "name": "stdout",
     "output_type": "stream",
     "text": [
      "Requirement already satisfied: pulp in d:\\development\\python\\python312\\lib\\site-packages (2.9.0)\n"
     ]
    }
   ],
   "source": [
    "!pip install pulp"
   ]
  },
  {
   "cell_type": "code",
   "execution_count": 4,
   "metadata": {
    "_cell_guid": "b1076dfc-b9ad-4769-8c92-a6c4dae69d19",
    "_uuid": "8f2839f25d086af736a60e9eeb907d3b93b6e0e5",
    "execution": {
     "iopub.execute_input": "2024-11-21T14:07:19.991456Z",
     "iopub.status.busy": "2024-11-21T14:07:19.990233Z",
     "iopub.status.idle": "2024-11-21T14:07:35.348170Z",
     "shell.execute_reply": "2024-11-21T14:07:35.346749Z",
     "shell.execute_reply.started": "2024-11-21T14:07:19.991380Z"
    },
    "trusted": true
   },
   "outputs": [],
   "source": [
    "import pandas as pd\n",
    "import numpy as np\n",
    "from sklearn.model_selection import train_test_split\n",
    "from sklearn.preprocessing import StandardScaler, LabelEncoder\n",
    "import tensorflow as tf\n",
    "from tensorflow.keras import layers, models, Input\n",
    "import matplotlib.pyplot as plt\n",
    "import seaborn as sns\n",
    "import joblib\n",
    "from tensorflow.keras.callbacks import EarlyStopping, ReduceLROnPlateau\n",
    "from tensorflow.keras.optimizers import Adam\n",
    "from tensorflow.keras.models import load_model\n",
    "import joblib\n",
    "from sklearn.metrics import r2_score"
   ]
  },
  {
   "cell_type": "code",
   "execution_count": 5,
   "metadata": {
    "execution": {
     "iopub.execute_input": "2024-11-21T14:08:00.573524Z",
     "iopub.status.busy": "2024-11-21T14:08:00.573022Z",
     "iopub.status.idle": "2024-11-21T14:08:00.608586Z",
     "shell.execute_reply": "2024-11-21T14:08:00.607280Z",
     "shell.execute_reply.started": "2024-11-21T14:08:00.573480Z"
    },
    "trusted": true
   },
   "outputs": [],
   "source": [
    "from pulp import *\n",
    "from IPython.display import clear_output"
   ]
  },
  {
   "cell_type": "code",
   "execution_count": 6,
   "metadata": {
    "execution": {
     "iopub.execute_input": "2024-11-21T14:08:05.525871Z",
     "iopub.status.busy": "2024-11-21T14:08:05.525471Z",
     "iopub.status.idle": "2024-11-21T14:08:05.556767Z",
     "shell.execute_reply": "2024-11-21T14:08:05.555009Z",
     "shell.execute_reply.started": "2024-11-21T14:08:05.525836Z"
    },
    "trusted": true
   },
   "outputs": [],
   "source": [
    "# Load dataset\n",
    "# df_baby = pd.read_csv('/kaggle/input/nutrition-needed-baby-dataset/kebutuhan_nutrisi_baby_2th.csv')\n",
    "df_food = pd.read_csv('kaggle/input/data_baby_food1.csv')\n",
    "# df_food = pd.read_csv('/kaggle/input/data-baby-food-indonesian/data_baby_food.csv')\n",
    "df_baby = pd.read_csv('kaggle/input/kebutuhan_nutrisi_baby_2th.csv')"
   ]
  },
  {
   "cell_type": "code",
   "execution_count": 7,
   "metadata": {
    "execution": {
     "iopub.execute_input": "2024-11-21T14:08:28.245778Z",
     "iopub.status.busy": "2024-11-21T14:08:28.243086Z",
     "iopub.status.idle": "2024-11-21T14:08:28.301756Z",
     "shell.execute_reply": "2024-11-21T14:08:28.299237Z",
     "shell.execute_reply.started": "2024-11-21T14:08:28.245700Z"
    },
    "trusted": true
   },
   "outputs": [
    {
     "name": "stdout",
     "output_type": "stream",
     "text": [
      "   ID  Usia_Bulan Gender  Berat_Kg  Tinggi_Cm Aktivitas_Level     Status_ASI  \\\n",
      "0   1           0      L       3.5         50          Rendah  ASI_Eksklusif   \n",
      "1   2           0      P       3.3         49          Rendah  ASI_Eksklusif   \n",
      "2   3           1      L       4.2         54          Rendah  ASI_Eksklusif   \n",
      "3   4           1      P       4.0         53          Rendah  ASI_Eksklusif   \n",
      "4   5           2      L       5.0         58          Rendah  ASI_Eksklusif   \n",
      "\n",
      "   Kebutuhan_Kalori_Per_Hari  Kebutuhan_Protein_g  Kebutuhan_Lemak_g  \\\n",
      "0                        450                  9.5                 31   \n",
      "1                        430                  9.0                 30   \n",
      "2                        480                 10.0                 33   \n",
      "3                        460                  9.5                 32   \n",
      "4                        520                 11.0                 36   \n",
      "\n",
      "   Kebutuhan_Karbohidrat_g Kategori_BB  \n",
      "0                       48      Normal  \n",
      "1                       46      Normal  \n",
      "2                       51      Normal  \n",
      "3                       49      Normal  \n",
      "4                       55      Normal  \n",
      "    Age_Group                   Food (per 100g)  Calcium(mg)  Protein(g)  \\\n",
      "0   0-6 BULAN                ASI (Air Susu Ibu)           34         1.2   \n",
      "1   0-6 BULAN       Susu Formula Bayi 0-6 bulan           50         1.5   \n",
      "2  6-12 BULAN  Susu Formula Lanjutan 6-12 bulan           65         1.8   \n",
      "3   6-8 BULAN            Bubur Susu Beras Merah           45         3.5   \n",
      "4   6-8 BULAN            Bubur Susu Beras Putih           40         3.2   \n",
      "\n",
      "   Carbohydrate(g)  Fat(g)  Calorie(kcal)  \\\n",
      "0              7.0     4.2             70   \n",
      "1              7.2     3.6             67   \n",
      "2              8.0     3.8             72   \n",
      "3             25.0     1.0            123   \n",
      "4             24.0     0.9            120   \n",
      "\n",
      "                                               Notes  \n",
      "0  ASI Eksklusif direkomendasikan oleh WHO sebaga...  \n",
      "1  Contoh merek: Bebelac Gold 1 SGM 1 Dancow 1. I...  \n",
      "2  Contoh merek: Bebelac Gold 2 SGM 2 Dancow 2. D...  \n",
      "3  MPASI awal dengan tekstur halus. Campur beras ...  \n",
      "4  MPASI awal dengan tekstur halus. Campur beras ...  \n"
     ]
    }
   ],
   "source": [
    "print(df_baby.head())\n",
    "print(df_food.head())"
   ]
  },
  {
   "cell_type": "code",
   "execution_count": 8,
   "metadata": {
    "execution": {
     "iopub.execute_input": "2024-11-21T14:08:30.373912Z",
     "iopub.status.busy": "2024-11-21T14:08:30.373510Z",
     "iopub.status.idle": "2024-11-21T14:08:30.380699Z",
     "shell.execute_reply": "2024-11-21T14:08:30.379223Z",
     "shell.execute_reply.started": "2024-11-21T14:08:30.373878Z"
    },
    "trusted": true
   },
   "outputs": [
    {
     "name": "stdout",
     "output_type": "stream",
     "text": [
      "Index(['ID', 'Usia_Bulan', 'Gender', 'Berat_Kg', 'Tinggi_Cm',\n",
      "       'Aktivitas_Level', 'Status_ASI', 'Kebutuhan_Kalori_Per_Hari',\n",
      "       'Kebutuhan_Protein_g', 'Kebutuhan_Lemak_g', 'Kebutuhan_Karbohidrat_g',\n",
      "       'Kategori_BB'],\n",
      "      dtype='object')\n",
      "Index(['Age_Group', 'Food (per 100g)', 'Calcium(mg)', 'Protein(g)',\n",
      "       'Carbohydrate(g)', 'Fat(g)', 'Calorie(kcal)', 'Notes'],\n",
      "      dtype='object')\n"
     ]
    }
   ],
   "source": [
    "print(df_baby.columns)\n",
    "print(df_food.columns)"
   ]
  },
  {
   "cell_type": "code",
   "execution_count": 9,
   "metadata": {
    "execution": {
     "iopub.execute_input": "2024-11-21T14:08:46.904116Z",
     "iopub.status.busy": "2024-11-21T14:08:46.903505Z",
     "iopub.status.idle": "2024-11-21T14:08:46.952533Z",
     "shell.execute_reply": "2024-11-21T14:08:46.951250Z",
     "shell.execute_reply.started": "2024-11-21T14:08:46.904053Z"
    },
    "trusted": true
   },
   "outputs": [],
   "source": [
    "# Preprocessing data\n",
    "\n",
    "df_food = df_food.rename(columns={\n",
    "    'Food (per 100g)': 'name',\n",
    "    'Calorie(kcal)': 'calories',\n",
    "    'Protein(g)': 'proteins',\n",
    "    'Fat(g)': 'fat',\n",
    "    'Carbohydrate(g)': 'carbohydrate',\n",
    "    'Calcium(mg)': 'calcium'\n",
    "})\n",
    "\n",
    "# Simpan nilai unik untuk setiap kolom kategorikal sebelum encoding\n",
    "original_values = {\n",
    "    'Gender': df_baby['Gender'].unique(),\n",
    "    'Aktivitas_Level': df_baby['Aktivitas_Level'].unique(),\n",
    "    'Status_ASI': df_baby['Status_ASI'].unique(),\n",
    "    'Kategori_BB': df_baby['Kategori_BB'].unique()\n",
    "}\n",
    "\n",
    "# Label encoding untuk kolom kategorikal\n",
    "encoders = {\n",
    "    'Gender': LabelEncoder(),\n",
    "    'Aktivitas_Level': LabelEncoder(),\n",
    "    'Status_ASI': LabelEncoder(),\n",
    "    'Kategori_BB': LabelEncoder()\n",
    "}\n",
    "\n",
    "for column, encoder in encoders.items():\n",
    "    df_baby[column] = encoder.fit_transform(df_baby[column])\n",
    "\n",
    "# Pisahkan fitur dan target\n",
    "feature_columns = ['Usia_Bulan', 'Gender', 'Berat_Kg', 'Tinggi_Cm', 'Aktivitas_Level', 'Status_ASI']\n",
    "target_columns = ['Kebutuhan_Kalori_Per_Hari', 'Kebutuhan_Protein_g', 'Kebutuhan_Lemak_g', 'Kebutuhan_Karbohidrat_g']\n",
    "\n",
    "X = df_baby[feature_columns]\n",
    "y = df_baby[target_columns]\n",
    "\n",
    "# Normalisasi data\n",
    "scaler_X = StandardScaler()\n",
    "scaler_y = StandardScaler()\n",
    "\n",
    "X_scaled = scaler_X.fit_transform(X)\n",
    "y_scaled = scaler_y.fit_transform(y)\n",
    "\n",
    "# Split data\n",
    "X_train, X_test, y_train, y_test = train_test_split(X_scaled, y_scaled, test_size=0.2, random_state=42)\n"
   ]
  },
  {
   "cell_type": "code",
   "execution_count": 10,
   "metadata": {
    "execution": {
     "iopub.execute_input": "2024-11-21T14:08:49.015768Z",
     "iopub.status.busy": "2024-11-21T14:08:49.015313Z",
     "iopub.status.idle": "2024-11-21T14:08:49.024235Z",
     "shell.execute_reply": "2024-11-21T14:08:49.022900Z",
     "shell.execute_reply.started": "2024-11-21T14:08:49.015728Z"
    },
    "trusted": true
   },
   "outputs": [
    {
     "name": "stdout",
     "output_type": "stream",
     "text": [
      "Label untuk Gender:\n",
      "{'L': np.int64(0), 'P': np.int64(1)}\n",
      "---\n",
      "Label untuk Aktivitas_Level:\n",
      "{'Rendah': np.int64(1), 'Sedang': np.int64(3), 'Aktif': np.int64(0), 'Sangat_Aktif': np.int64(2)}\n",
      "---\n",
      "Label untuk Status_ASI:\n",
      "{'ASI_Eksklusif': np.int64(1), 'ASI+MPASI': np.int64(0), 'MPASI': np.int64(2)}\n",
      "---\n",
      "Label untuk Kategori_BB:\n",
      "{'Normal': np.int64(0)}\n",
      "---\n"
     ]
    }
   ],
   "source": [
    "# print(df_baby)\n",
    "# Menampilkan label yang telah diberi angka untuk setiap kolom\n",
    "for column, encoder in encoders.items():\n",
    "    print(f'Label untuk {column}:')\n",
    "    # Menampilkan kategori asli dan nilai encoded-nya\n",
    "    mapping = dict(zip(original_values[column], encoder.transform(original_values[column])))\n",
    "    print(mapping)\n",
    "    print('---')"
   ]
  },
  {
   "cell_type": "code",
   "execution_count": 11,
   "metadata": {
    "execution": {
     "iopub.execute_input": "2024-11-21T14:08:52.366538Z",
     "iopub.status.busy": "2024-11-21T14:08:52.366107Z",
     "iopub.status.idle": "2024-11-21T14:08:52.377462Z",
     "shell.execute_reply": "2024-11-21T14:08:52.375875Z",
     "shell.execute_reply.started": "2024-11-21T14:08:52.366499Z"
    },
    "trusted": true
   },
   "outputs": [
    {
     "name": "stdout",
     "output_type": "stream",
     "text": [
      "    Age_Group                              name  calcium  proteins  \\\n",
      "0   0-6 BULAN                ASI (Air Susu Ibu)       34       1.2   \n",
      "1   0-6 BULAN       Susu Formula Bayi 0-6 bulan       50       1.5   \n",
      "2  6-12 BULAN  Susu Formula Lanjutan 6-12 bulan       65       1.8   \n",
      "3   6-8 BULAN            Bubur Susu Beras Merah       45       3.5   \n",
      "4   6-8 BULAN            Bubur Susu Beras Putih       40       3.2   \n",
      "\n",
      "   carbohydrate  fat  calories  \\\n",
      "0           7.0  4.2        70   \n",
      "1           7.2  3.6        67   \n",
      "2           8.0  3.8        72   \n",
      "3          25.0  1.0       123   \n",
      "4          24.0  0.9       120   \n",
      "\n",
      "                                               Notes  \n",
      "0  ASI Eksklusif direkomendasikan oleh WHO sebaga...  \n",
      "1  Contoh merek: Bebelac Gold 1 SGM 1 Dancow 1. I...  \n",
      "2  Contoh merek: Bebelac Gold 2 SGM 2 Dancow 2. D...  \n",
      "3  MPASI awal dengan tekstur halus. Campur beras ...  \n",
      "4  MPASI awal dengan tekstur halus. Campur beras ...  \n"
     ]
    }
   ],
   "source": [
    "print(df_food.head())"
   ]
  },
  {
   "cell_type": "code",
   "execution_count": 21,
   "metadata": {
    "execution": {
     "iopub.execute_input": "2024-11-21T14:08:54.623414Z",
     "iopub.status.busy": "2024-11-21T14:08:54.622941Z",
     "iopub.status.idle": "2024-11-21T14:08:54.748408Z",
     "shell.execute_reply": "2024-11-21T14:08:54.747251Z",
     "shell.execute_reply.started": "2024-11-21T14:08:54.623329Z"
    },
    "trusted": true
   },
   "outputs": [],
   "source": [
    "# Membuat model Neural Network\n",
    "def create_model():\n",
    "    model = models.Sequential([\n",
    "        Input(shape=(6,)),  # Input layer dengan 6 fitur\n",
    "        layers.Dense(64, activation='relu'),\n",
    "        layers.Dropout(0.3), \n",
    "        layers.Dense(32, activation='relu'),\n",
    "        layers.Dropout(0.2),\n",
    "        layers.Dense(16, activation='relu'),\n",
    "        layers.Dense(4)  # Output layer untuk prediksi kalori, protein, lemak, karbohidrat\n",
    "    ])\n",
    "    \n",
    "    \n",
    "    optimizer = Adam(learning_rate=0.001)\n",
    "\n",
    "    model.compile(optimizer=optimizer,\n",
    "                  loss=tf.keras.losses.MeanSquaredError(),\n",
    "                  metrics=['mae'])\n",
    "    return model\n",
    "\n",
    "model = create_model()\n",
    "\n",
    "# Callback untuk early stopping dan pengurangan learning rate jika tidak ada peningkatan\n",
    "early_stopping = EarlyStopping(monitor='val_loss', patience=10, restore_best_weights=True)\n",
    "lr_scheduler = ReduceLROnPlateau(monitor='val_loss', factor=0.5, patience=5, min_lr=1e-5)\n"
   ]
  },
  {
   "cell_type": "code",
   "execution_count": 22,
   "metadata": {
    "execution": {
     "iopub.execute_input": "2024-11-21T14:08:58.632463Z",
     "iopub.status.busy": "2024-11-21T14:08:58.631966Z",
     "iopub.status.idle": "2024-11-21T14:09:08.323668Z",
     "shell.execute_reply": "2024-11-21T14:09:08.322396Z",
     "shell.execute_reply.started": "2024-11-21T14:08:58.632412Z"
    },
    "scrolled": true,
    "trusted": true
   },
   "outputs": [
    {
     "name": "stdout",
     "output_type": "stream",
     "text": [
      "Epoch 1/300\n",
      "\u001b[1m2/2\u001b[0m \u001b[32m━━━━━━━━━━━━━━━━━━━━\u001b[0m\u001b[37m\u001b[0m \u001b[1m1s\u001b[0m 160ms/step - loss: 1.3750 - mae: 0.9999 - val_loss: 0.4559 - val_mae: 0.5083 - learning_rate: 0.0010\n",
      "Epoch 2/300\n",
      "\u001b[1m2/2\u001b[0m \u001b[32m━━━━━━━━━━━━━━━━━━━━\u001b[0m\u001b[37m\u001b[0m \u001b[1m0s\u001b[0m 72ms/step - loss: 1.2278 - mae: 0.9372 - val_loss: 0.4379 - val_mae: 0.5013 - learning_rate: 0.0010\n",
      "Epoch 3/300\n",
      "\u001b[1m2/2\u001b[0m \u001b[32m━━━━━━━━━━━━━━━━━━━━\u001b[0m\u001b[37m\u001b[0m \u001b[1m0s\u001b[0m 72ms/step - loss: 1.2098 - mae: 0.9546 - val_loss: 0.4213 - val_mae: 0.4933 - learning_rate: 0.0010\n",
      "Epoch 4/300\n",
      "\u001b[1m2/2\u001b[0m \u001b[32m━━━━━━━━━━━━━━━━━━━━\u001b[0m\u001b[37m\u001b[0m \u001b[1m0s\u001b[0m 56ms/step - loss: 1.0847 - mae: 0.8820 - val_loss: 0.4067 - val_mae: 0.4865 - learning_rate: 0.0010\n",
      "Epoch 5/300\n",
      "\u001b[1m2/2\u001b[0m \u001b[32m━━━━━━━━━━━━━━━━━━━━\u001b[0m\u001b[37m\u001b[0m \u001b[1m0s\u001b[0m 72ms/step - loss: 1.0175 - mae: 0.8460 - val_loss: 0.3931 - val_mae: 0.4798 - learning_rate: 0.0010\n",
      "Epoch 6/300\n",
      "\u001b[1m2/2\u001b[0m \u001b[32m━━━━━━━━━━━━━━━━━━━━\u001b[0m\u001b[37m\u001b[0m \u001b[1m0s\u001b[0m 88ms/step - loss: 0.9677 - mae: 0.8417 - val_loss: 0.3799 - val_mae: 0.4727 - learning_rate: 0.0010\n",
      "Epoch 7/300\n",
      "\u001b[1m2/2\u001b[0m \u001b[32m━━━━━━━━━━━━━━━━━━━━\u001b[0m\u001b[37m\u001b[0m \u001b[1m0s\u001b[0m 89ms/step - loss: 0.9892 - mae: 0.8353 - val_loss: 0.3688 - val_mae: 0.4657 - learning_rate: 0.0010\n",
      "Epoch 8/300\n",
      "\u001b[1m2/2\u001b[0m \u001b[32m━━━━━━━━━━━━━━━━━━━━\u001b[0m\u001b[37m\u001b[0m \u001b[1m0s\u001b[0m 72ms/step - loss: 0.9024 - mae: 0.8100 - val_loss: 0.3598 - val_mae: 0.4590 - learning_rate: 0.0010\n",
      "Epoch 9/300\n",
      "\u001b[1m2/2\u001b[0m \u001b[32m━━━━━━━━━━━━━━━━━━━━\u001b[0m\u001b[37m\u001b[0m \u001b[1m0s\u001b[0m 64ms/step - loss: 0.8504 - mae: 0.7619 - val_loss: 0.3529 - val_mae: 0.4538 - learning_rate: 0.0010\n",
      "Epoch 10/300\n",
      "\u001b[1m2/2\u001b[0m \u001b[32m━━━━━━━━━━━━━━━━━━━━\u001b[0m\u001b[37m\u001b[0m \u001b[1m0s\u001b[0m 64ms/step - loss: 0.8560 - mae: 0.7800 - val_loss: 0.3446 - val_mae: 0.4491 - learning_rate: 0.0010\n",
      "Epoch 11/300\n",
      "\u001b[1m2/2\u001b[0m \u001b[32m━━━━━━━━━━━━━━━━━━━━\u001b[0m\u001b[37m\u001b[0m \u001b[1m0s\u001b[0m 80ms/step - loss: 0.7953 - mae: 0.7526 - val_loss: 0.3363 - val_mae: 0.4437 - learning_rate: 0.0010\n",
      "Epoch 12/300\n",
      "\u001b[1m2/2\u001b[0m \u001b[32m━━━━━━━━━━━━━━━━━━━━\u001b[0m\u001b[37m\u001b[0m \u001b[1m0s\u001b[0m 64ms/step - loss: 0.8439 - mae: 0.7581 - val_loss: 0.3274 - val_mae: 0.4373 - learning_rate: 0.0010\n",
      "Epoch 13/300\n",
      "\u001b[1m2/2\u001b[0m \u001b[32m━━━━━━━━━━━━━━━━━━━━\u001b[0m\u001b[37m\u001b[0m \u001b[1m0s\u001b[0m 65ms/step - loss: 0.7227 - mae: 0.7100 - val_loss: 0.3179 - val_mae: 0.4307 - learning_rate: 0.0010\n",
      "Epoch 14/300\n",
      "\u001b[1m2/2\u001b[0m \u001b[32m━━━━━━━━━━━━━━━━━━━━\u001b[0m\u001b[37m\u001b[0m \u001b[1m0s\u001b[0m 65ms/step - loss: 0.7297 - mae: 0.7033 - val_loss: 0.3080 - val_mae: 0.4233 - learning_rate: 0.0010\n",
      "Epoch 15/300\n",
      "\u001b[1m2/2\u001b[0m \u001b[32m━━━━━━━━━━━━━━━━━━━━\u001b[0m\u001b[37m\u001b[0m \u001b[1m0s\u001b[0m 64ms/step - loss: 0.6476 - mae: 0.6680 - val_loss: 0.2981 - val_mae: 0.4157 - learning_rate: 0.0010\n",
      "Epoch 16/300\n",
      "\u001b[1m2/2\u001b[0m \u001b[32m━━━━━━━━━━━━━━━━━━━━\u001b[0m\u001b[37m\u001b[0m \u001b[1m0s\u001b[0m 80ms/step - loss: 0.7337 - mae: 0.7088 - val_loss: 0.2870 - val_mae: 0.4072 - learning_rate: 0.0010\n",
      "Epoch 17/300\n",
      "\u001b[1m2/2\u001b[0m \u001b[32m━━━━━━━━━━━━━━━━━━━━\u001b[0m\u001b[37m\u001b[0m \u001b[1m0s\u001b[0m 64ms/step - loss: 0.7518 - mae: 0.7333 - val_loss: 0.2768 - val_mae: 0.4000 - learning_rate: 0.0010\n",
      "Epoch 18/300\n",
      "\u001b[1m2/2\u001b[0m \u001b[32m━━━━━━━━━━━━━━━━━━━━\u001b[0m\u001b[37m\u001b[0m \u001b[1m0s\u001b[0m 64ms/step - loss: 0.7140 - mae: 0.7044 - val_loss: 0.2670 - val_mae: 0.3928 - learning_rate: 0.0010\n",
      "Epoch 19/300\n",
      "\u001b[1m2/2\u001b[0m \u001b[32m━━━━━━━━━━━━━━━━━━━━\u001b[0m\u001b[37m\u001b[0m \u001b[1m0s\u001b[0m 64ms/step - loss: 0.5817 - mae: 0.6158 - val_loss: 0.2575 - val_mae: 0.3857 - learning_rate: 0.0010\n",
      "Epoch 20/300\n",
      "\u001b[1m2/2\u001b[0m \u001b[32m━━━━━━━━━━━━━━━━━━━━\u001b[0m\u001b[37m\u001b[0m \u001b[1m0s\u001b[0m 56ms/step - loss: 0.6774 - mae: 0.6806 - val_loss: 0.2480 - val_mae: 0.3779 - learning_rate: 0.0010\n",
      "Epoch 21/300\n",
      "\u001b[1m2/2\u001b[0m \u001b[32m━━━━━━━━━━━━━━━━━━━━\u001b[0m\u001b[37m\u001b[0m \u001b[1m0s\u001b[0m 56ms/step - loss: 0.6099 - mae: 0.6231 - val_loss: 0.2383 - val_mae: 0.3689 - learning_rate: 0.0010\n",
      "Epoch 22/300\n",
      "\u001b[1m2/2\u001b[0m \u001b[32m━━━━━━━━━━━━━━━━━━━━\u001b[0m\u001b[37m\u001b[0m \u001b[1m0s\u001b[0m 72ms/step - loss: 0.6327 - mae: 0.6182 - val_loss: 0.2287 - val_mae: 0.3594 - learning_rate: 0.0010\n",
      "Epoch 23/300\n",
      "\u001b[1m2/2\u001b[0m \u001b[32m━━━━━━━━━━━━━━━━━━━━\u001b[0m\u001b[37m\u001b[0m \u001b[1m0s\u001b[0m 64ms/step - loss: 0.5122 - mae: 0.5619 - val_loss: 0.2195 - val_mae: 0.3523 - learning_rate: 0.0010\n",
      "Epoch 24/300\n",
      "\u001b[1m2/2\u001b[0m \u001b[32m━━━━━━━━━━━━━━━━━━━━\u001b[0m\u001b[37m\u001b[0m \u001b[1m0s\u001b[0m 64ms/step - loss: 0.4944 - mae: 0.5369 - val_loss: 0.2106 - val_mae: 0.3468 - learning_rate: 0.0010\n",
      "Epoch 25/300\n",
      "\u001b[1m2/2\u001b[0m \u001b[32m━━━━━━━━━━━━━━━━━━━━\u001b[0m\u001b[37m\u001b[0m \u001b[1m0s\u001b[0m 64ms/step - loss: 0.4444 - mae: 0.5311 - val_loss: 0.2020 - val_mae: 0.3408 - learning_rate: 0.0010\n",
      "Epoch 26/300\n",
      "\u001b[1m2/2\u001b[0m \u001b[32m━━━━━━━━━━━━━━━━━━━━\u001b[0m\u001b[37m\u001b[0m \u001b[1m0s\u001b[0m 65ms/step - loss: 0.4751 - mae: 0.5380 - val_loss: 0.1941 - val_mae: 0.3353 - learning_rate: 0.0010\n",
      "Epoch 27/300\n",
      "\u001b[1m2/2\u001b[0m \u001b[32m━━━━━━━━━━━━━━━━━━━━\u001b[0m\u001b[37m\u001b[0m \u001b[1m0s\u001b[0m 56ms/step - loss: 0.4457 - mae: 0.5272 - val_loss: 0.1867 - val_mae: 0.3304 - learning_rate: 0.0010\n",
      "Epoch 28/300\n",
      "\u001b[1m2/2\u001b[0m \u001b[32m━━━━━━━━━━━━━━━━━━━━\u001b[0m\u001b[37m\u001b[0m \u001b[1m0s\u001b[0m 72ms/step - loss: 0.4637 - mae: 0.5080 - val_loss: 0.1795 - val_mae: 0.3252 - learning_rate: 0.0010\n",
      "Epoch 29/300\n",
      "\u001b[1m2/2\u001b[0m \u001b[32m━━━━━━━━━━━━━━━━━━━━\u001b[0m\u001b[37m\u001b[0m \u001b[1m0s\u001b[0m 80ms/step - loss: 0.3853 - mae: 0.4733 - val_loss: 0.1722 - val_mae: 0.3202 - learning_rate: 0.0010\n",
      "Epoch 30/300\n",
      "\u001b[1m2/2\u001b[0m \u001b[32m━━━━━━━━━━━━━━━━━━━━\u001b[0m\u001b[37m\u001b[0m \u001b[1m0s\u001b[0m 64ms/step - loss: 0.3768 - mae: 0.4861 - val_loss: 0.1647 - val_mae: 0.3144 - learning_rate: 0.0010\n",
      "Epoch 31/300\n",
      "\u001b[1m2/2\u001b[0m \u001b[32m━━━━━━━━━━━━━━━━━━━━\u001b[0m\u001b[37m\u001b[0m \u001b[1m0s\u001b[0m 72ms/step - loss: 0.3548 - mae: 0.4423 - val_loss: 0.1571 - val_mae: 0.3078 - learning_rate: 0.0010\n",
      "Epoch 32/300\n",
      "\u001b[1m2/2\u001b[0m \u001b[32m━━━━━━━━━━━━━━━━━━━━\u001b[0m\u001b[37m\u001b[0m \u001b[1m0s\u001b[0m 64ms/step - loss: 0.3334 - mae: 0.4471 - val_loss: 0.1502 - val_mae: 0.3025 - learning_rate: 0.0010\n",
      "Epoch 33/300\n",
      "\u001b[1m2/2\u001b[0m \u001b[32m━━━━━━━━━━━━━━━━━━━━\u001b[0m\u001b[37m\u001b[0m \u001b[1m0s\u001b[0m 56ms/step - loss: 0.2889 - mae: 0.3798 - val_loss: 0.1442 - val_mae: 0.2987 - learning_rate: 0.0010\n",
      "Epoch 34/300\n",
      "\u001b[1m2/2\u001b[0m \u001b[32m━━━━━━━━━━━━━━━━━━━━\u001b[0m\u001b[37m\u001b[0m \u001b[1m0s\u001b[0m 64ms/step - loss: 0.2973 - mae: 0.4075 - val_loss: 0.1380 - val_mae: 0.2953 - learning_rate: 0.0010\n",
      "Epoch 35/300\n",
      "\u001b[1m2/2\u001b[0m \u001b[32m━━━━━━━━━━━━━━━━━━━━\u001b[0m\u001b[37m\u001b[0m \u001b[1m0s\u001b[0m 80ms/step - loss: 0.2816 - mae: 0.3723 - val_loss: 0.1327 - val_mae: 0.2944 - learning_rate: 0.0010\n",
      "Epoch 36/300\n",
      "\u001b[1m2/2\u001b[0m \u001b[32m━━━━━━━━━━━━━━━━━━━━\u001b[0m\u001b[37m\u001b[0m \u001b[1m0s\u001b[0m 64ms/step - loss: 0.2973 - mae: 0.3980 - val_loss: 0.1282 - val_mae: 0.2947 - learning_rate: 0.0010\n",
      "Epoch 37/300\n",
      "\u001b[1m2/2\u001b[0m \u001b[32m━━━━━━━━━━━━━━━━━━━━\u001b[0m\u001b[37m\u001b[0m \u001b[1m0s\u001b[0m 64ms/step - loss: 0.2312 - mae: 0.3646 - val_loss: 0.1220 - val_mae: 0.2912 - learning_rate: 0.0010\n",
      "Epoch 38/300\n",
      "\u001b[1m2/2\u001b[0m \u001b[32m━━━━━━━━━━━━━━━━━━━━\u001b[0m\u001b[37m\u001b[0m \u001b[1m0s\u001b[0m 64ms/step - loss: 0.1978 - mae: 0.3509 - val_loss: 0.1148 - val_mae: 0.2847 - learning_rate: 0.0010\n",
      "Epoch 39/300\n",
      "\u001b[1m2/2\u001b[0m \u001b[32m━━━━━━━━━━━━━━━━━━━━\u001b[0m\u001b[37m\u001b[0m \u001b[1m0s\u001b[0m 56ms/step - loss: 0.2226 - mae: 0.3627 - val_loss: 0.1066 - val_mae: 0.2751 - learning_rate: 0.0010\n",
      "Epoch 40/300\n",
      "\u001b[1m2/2\u001b[0m \u001b[32m━━━━━━━━━━━━━━━━━━━━\u001b[0m\u001b[37m\u001b[0m \u001b[1m0s\u001b[0m 96ms/step - loss: 0.2191 - mae: 0.3574 - val_loss: 0.0980 - val_mae: 0.2637 - learning_rate: 0.0010\n",
      "Epoch 41/300\n",
      "\u001b[1m2/2\u001b[0m \u001b[32m━━━━━━━━━━━━━━━━━━━━\u001b[0m\u001b[37m\u001b[0m \u001b[1m0s\u001b[0m 56ms/step - loss: 0.1933 - mae: 0.3344 - val_loss: 0.0900 - val_mae: 0.2522 - learning_rate: 0.0010\n",
      "Epoch 42/300\n",
      "\u001b[1m2/2\u001b[0m \u001b[32m━━━━━━━━━━━━━━━━━━━━\u001b[0m\u001b[37m\u001b[0m \u001b[1m0s\u001b[0m 72ms/step - loss: 0.2142 - mae: 0.3457 - val_loss: 0.0825 - val_mae: 0.2407 - learning_rate: 0.0010\n",
      "Epoch 43/300\n",
      "\u001b[1m2/2\u001b[0m \u001b[32m━━━━━━━━━━━━━━━━━━━━\u001b[0m\u001b[37m\u001b[0m \u001b[1m0s\u001b[0m 64ms/step - loss: 0.1564 - mae: 0.3049 - val_loss: 0.0759 - val_mae: 0.2311 - learning_rate: 0.0010\n",
      "Epoch 44/300\n",
      "\u001b[1m2/2\u001b[0m \u001b[32m━━━━━━━━━━━━━━━━━━━━\u001b[0m\u001b[37m\u001b[0m \u001b[1m0s\u001b[0m 64ms/step - loss: 0.2229 - mae: 0.3365 - val_loss: 0.0707 - val_mae: 0.2236 - learning_rate: 0.0010\n",
      "Epoch 45/300\n",
      "\u001b[1m2/2\u001b[0m \u001b[32m━━━━━━━━━━━━━━━━━━━━\u001b[0m\u001b[37m\u001b[0m \u001b[1m0s\u001b[0m 64ms/step - loss: 0.1880 - mae: 0.3531 - val_loss: 0.0659 - val_mae: 0.2160 - learning_rate: 0.0010\n",
      "Epoch 46/300\n",
      "\u001b[1m2/2\u001b[0m \u001b[32m━━━━━━━━━━━━━━━━━━━━\u001b[0m\u001b[37m\u001b[0m \u001b[1m0s\u001b[0m 56ms/step - loss: 0.2407 - mae: 0.3757 - val_loss: 0.0613 - val_mae: 0.2088 - learning_rate: 0.0010\n",
      "Epoch 47/300\n",
      "\u001b[1m2/2\u001b[0m \u001b[32m━━━━━━━━━━━━━━━━━━━━\u001b[0m\u001b[37m\u001b[0m \u001b[1m0s\u001b[0m 56ms/step - loss: 0.1140 - mae: 0.2695 - val_loss: 0.0568 - val_mae: 0.2009 - learning_rate: 0.0010\n",
      "Epoch 48/300\n",
      "\u001b[1m2/2\u001b[0m \u001b[32m━━━━━━━━━━━━━━━━━━━━\u001b[0m\u001b[37m\u001b[0m \u001b[1m0s\u001b[0m 72ms/step - loss: 0.1763 - mae: 0.3381 - val_loss: 0.0522 - val_mae: 0.1910 - learning_rate: 0.0010\n",
      "Epoch 49/300\n",
      "\u001b[1m2/2\u001b[0m \u001b[32m━━━━━━━━━━━━━━━━━━━━\u001b[0m\u001b[37m\u001b[0m \u001b[1m0s\u001b[0m 80ms/step - loss: 0.1177 - mae: 0.2593 - val_loss: 0.0478 - val_mae: 0.1800 - learning_rate: 0.0010\n",
      "Epoch 50/300\n",
      "\u001b[1m2/2\u001b[0m \u001b[32m━━━━━━━━━━━━━━━━━━━━\u001b[0m\u001b[37m\u001b[0m \u001b[1m0s\u001b[0m 72ms/step - loss: 0.1317 - mae: 0.2814 - val_loss: 0.0437 - val_mae: 0.1716 - learning_rate: 0.0010\n",
      "Epoch 51/300\n",
      "\u001b[1m2/2\u001b[0m \u001b[32m━━━━━━━━━━━━━━━━━━━━\u001b[0m\u001b[37m\u001b[0m \u001b[1m0s\u001b[0m 72ms/step - loss: 0.1344 - mae: 0.2973 - val_loss: 0.0399 - val_mae: 0.1633 - learning_rate: 0.0010\n",
      "Epoch 52/300\n",
      "\u001b[1m2/2\u001b[0m \u001b[32m━━━━━━━━━━━━━━━━━━━━\u001b[0m\u001b[37m\u001b[0m \u001b[1m0s\u001b[0m 81ms/step - loss: 0.0948 - mae: 0.2313 - val_loss: 0.0364 - val_mae: 0.1563 - learning_rate: 0.0010\n",
      "Epoch 53/300\n",
      "\u001b[1m2/2\u001b[0m \u001b[32m━━━━━━━━━━━━━━━━━━━━\u001b[0m\u001b[37m\u001b[0m \u001b[1m0s\u001b[0m 49ms/step - loss: 0.1395 - mae: 0.2895 - val_loss: 0.0332 - val_mae: 0.1497 - learning_rate: 0.0010\n",
      "Epoch 54/300\n",
      "\u001b[1m2/2\u001b[0m \u001b[32m━━━━━━━━━━━━━━━━━━━━\u001b[0m\u001b[37m\u001b[0m \u001b[1m0s\u001b[0m 64ms/step - loss: 0.1347 - mae: 0.2736 - val_loss: 0.0307 - val_mae: 0.1440 - learning_rate: 0.0010\n",
      "Epoch 55/300\n",
      "\u001b[1m2/2\u001b[0m \u001b[32m━━━━━━━━━━━━━━━━━━━━\u001b[0m\u001b[37m\u001b[0m \u001b[1m0s\u001b[0m 56ms/step - loss: 0.0880 - mae: 0.2321 - val_loss: 0.0279 - val_mae: 0.1372 - learning_rate: 0.0010\n",
      "Epoch 56/300\n",
      "\u001b[1m2/2\u001b[0m \u001b[32m━━━━━━━━━━━━━━━━━━━━\u001b[0m\u001b[37m\u001b[0m \u001b[1m0s\u001b[0m 88ms/step - loss: 0.1118 - mae: 0.2612 - val_loss: 0.0254 - val_mae: 0.1308 - learning_rate: 0.0010\n",
      "Epoch 57/300\n",
      "\u001b[1m2/2\u001b[0m \u001b[32m━━━━━━━━━━━━━━━━━━━━\u001b[0m\u001b[37m\u001b[0m \u001b[1m0s\u001b[0m 56ms/step - loss: 0.0996 - mae: 0.2421 - val_loss: 0.0230 - val_mae: 0.1244 - learning_rate: 0.0010\n",
      "Epoch 58/300\n",
      "\u001b[1m2/2\u001b[0m \u001b[32m━━━━━━━━━━━━━━━━━━━━\u001b[0m\u001b[37m\u001b[0m \u001b[1m0s\u001b[0m 72ms/step - loss: 0.0630 - mae: 0.1976 - val_loss: 0.0209 - val_mae: 0.1183 - learning_rate: 0.0010\n",
      "Epoch 59/300\n",
      "\u001b[1m2/2\u001b[0m \u001b[32m━━━━━━━━━━━━━━━━━━━━\u001b[0m\u001b[37m\u001b[0m \u001b[1m0s\u001b[0m 80ms/step - loss: 0.1217 - mae: 0.2845 - val_loss: 0.0190 - val_mae: 0.1131 - learning_rate: 0.0010\n",
      "Epoch 60/300\n",
      "\u001b[1m2/2\u001b[0m \u001b[32m━━━━━━━━━━━━━━━━━━━━\u001b[0m\u001b[37m\u001b[0m \u001b[1m0s\u001b[0m 64ms/step - loss: 0.1016 - mae: 0.2493 - val_loss: 0.0174 - val_mae: 0.1086 - learning_rate: 0.0010\n",
      "Epoch 61/300\n",
      "\u001b[1m2/2\u001b[0m \u001b[32m━━━━━━━━━━━━━━━━━━━━\u001b[0m\u001b[37m\u001b[0m \u001b[1m0s\u001b[0m 72ms/step - loss: 0.1524 - mae: 0.2776 - val_loss: 0.0167 - val_mae: 0.1056 - learning_rate: 0.0010\n",
      "Epoch 62/300\n",
      "\u001b[1m2/2\u001b[0m \u001b[32m━━━━━━━━━━━━━━━━━━━━\u001b[0m\u001b[37m\u001b[0m \u001b[1m0s\u001b[0m 64ms/step - loss: 0.1051 - mae: 0.2401 - val_loss: 0.0166 - val_mae: 0.1057 - learning_rate: 0.0010\n",
      "Epoch 63/300\n",
      "\u001b[1m2/2\u001b[0m \u001b[32m━━━━━━━━━━━━━━━━━━━━\u001b[0m\u001b[37m\u001b[0m \u001b[1m0s\u001b[0m 56ms/step - loss: 0.0786 - mae: 0.2154 - val_loss: 0.0163 - val_mae: 0.1051 - learning_rate: 0.0010\n",
      "Epoch 64/300\n",
      "\u001b[1m2/2\u001b[0m \u001b[32m━━━━━━━━━━━━━━━━━━━━\u001b[0m\u001b[37m\u001b[0m \u001b[1m0s\u001b[0m 72ms/step - loss: 0.1027 - mae: 0.2334 - val_loss: 0.0158 - val_mae: 0.1045 - learning_rate: 0.0010\n",
      "Epoch 65/300\n",
      "\u001b[1m2/2\u001b[0m \u001b[32m━━━━━━━━━━━━━━━━━━━━\u001b[0m\u001b[37m\u001b[0m \u001b[1m0s\u001b[0m 56ms/step - loss: 0.1191 - mae: 0.2696 - val_loss: 0.0155 - val_mae: 0.1046 - learning_rate: 0.0010\n",
      "Epoch 66/300\n",
      "\u001b[1m2/2\u001b[0m \u001b[32m━━━━━━━━━━━━━━━━━━━━\u001b[0m\u001b[37m\u001b[0m \u001b[1m0s\u001b[0m 56ms/step - loss: 0.0961 - mae: 0.2416 - val_loss: 0.0157 - val_mae: 0.1061 - learning_rate: 0.0010\n",
      "Epoch 67/300\n",
      "\u001b[1m2/2\u001b[0m \u001b[32m━━━━━━━━━━━━━━━━━━━━\u001b[0m\u001b[37m\u001b[0m \u001b[1m0s\u001b[0m 81ms/step - loss: 0.0859 - mae: 0.2096 - val_loss: 0.0167 - val_mae: 0.1092 - learning_rate: 0.0010\n",
      "Epoch 68/300\n",
      "\u001b[1m2/2\u001b[0m \u001b[32m━━━━━━━━━━━━━━━━━━━━\u001b[0m\u001b[37m\u001b[0m \u001b[1m0s\u001b[0m 64ms/step - loss: 0.1138 - mae: 0.2605 - val_loss: 0.0179 - val_mae: 0.1122 - learning_rate: 0.0010\n",
      "Epoch 69/300\n",
      "\u001b[1m2/2\u001b[0m \u001b[32m━━━━━━━━━━━━━━━━━━━━\u001b[0m\u001b[37m\u001b[0m \u001b[1m0s\u001b[0m 64ms/step - loss: 0.0637 - mae: 0.1742 - val_loss: 0.0188 - val_mae: 0.1137 - learning_rate: 0.0010\n",
      "Epoch 70/300\n",
      "\u001b[1m2/2\u001b[0m \u001b[32m━━━━━━━━━━━━━━━━━━━━\u001b[0m\u001b[37m\u001b[0m \u001b[1m0s\u001b[0m 72ms/step - loss: 0.0947 - mae: 0.2478 - val_loss: 0.0189 - val_mae: 0.1123 - learning_rate: 0.0010\n",
      "Epoch 71/300\n",
      "\u001b[1m2/2\u001b[0m \u001b[32m━━━━━━━━━━━━━━━━━━━━\u001b[0m\u001b[37m\u001b[0m \u001b[1m0s\u001b[0m 56ms/step - loss: 0.0774 - mae: 0.1991 - val_loss: 0.0189 - val_mae: 0.1108 - learning_rate: 5.0000e-04\n",
      "Epoch 72/300\n",
      "\u001b[1m2/2\u001b[0m \u001b[32m━━━━━━━━━━━━━━━━━━━━\u001b[0m\u001b[37m\u001b[0m \u001b[1m0s\u001b[0m 67ms/step - loss: 0.0758 - mae: 0.2221 - val_loss: 0.0188 - val_mae: 0.1098 - learning_rate: 5.0000e-04\n",
      "Epoch 73/300\n",
      "\u001b[1m2/2\u001b[0m \u001b[32m━━━━━━━━━━━━━━━━━━━━\u001b[0m\u001b[37m\u001b[0m \u001b[1m0s\u001b[0m 56ms/step - loss: 0.1253 - mae: 0.2557 - val_loss: 0.0187 - val_mae: 0.1083 - learning_rate: 5.0000e-04\n",
      "Epoch 74/300\n",
      "\u001b[1m2/2\u001b[0m \u001b[32m━━━━━━━━━━━━━━━━━━━━\u001b[0m\u001b[37m\u001b[0m \u001b[1m0s\u001b[0m 64ms/step - loss: 0.0904 - mae: 0.2412 - val_loss: 0.0189 - val_mae: 0.1076 - learning_rate: 5.0000e-04\n",
      "Epoch 75/300\n",
      "\u001b[1m2/2\u001b[0m \u001b[32m━━━━━━━━━━━━━━━━━━━━\u001b[0m\u001b[37m\u001b[0m \u001b[1m0s\u001b[0m 72ms/step - loss: 0.0441 - mae: 0.1644 - val_loss: 0.0192 - val_mae: 0.1072 - learning_rate: 5.0000e-04\n"
     ]
    }
   ],
   "source": [
    "# Training model\n",
    "history = model.fit(X_train, y_train,\n",
    "                   epochs=300,\n",
    "                   batch_size=16,\n",
    "                   validation_split=0.2,\n",
    "                   callbacks=[early_stopping, lr_scheduler],\n",
    "                   verbose=1)"
   ]
  },
  {
   "cell_type": "code",
   "execution_count": 24,
   "metadata": {
    "execution": {
     "iopub.execute_input": "2024-11-21T14:09:16.803242Z",
     "iopub.status.busy": "2024-11-21T14:09:16.802587Z",
     "iopub.status.idle": "2024-11-21T14:09:17.705642Z",
     "shell.execute_reply": "2024-11-21T14:09:17.704013Z",
     "shell.execute_reply.started": "2024-11-21T14:09:16.803188Z"
    },
    "trusted": true
   },
   "outputs": [
    {
     "data": {
      "image/png": "[encoded data removed]",
      "text/plain": [
       "<Figure size 1500x500 with 2 Axes>"
      ]
     },
     "metadata": {},
     "output_type": "display_data"
    }
   ],
   "source": [
    "# Visualisasi hasil training\n",
    "sns.set_style('darkgrid')\n",
    "fig, (ax1, ax2) = plt.subplots(1, 2, figsize=(15, 5))\n",
    "\n",
    "# Plot loss\n",
    "ax1.plot(history.history['loss'], label='Training Loss')\n",
    "ax1.plot(history.history['val_loss'], label='Validation Loss')\n",
    "ax1.set_title('Model Loss')\n",
    "ax1.set_xlabel('Epoch')\n",
    "ax1.set_ylabel('Loss')\n",
    "ax1.legend()\n",
    "\n",
    "# Plot MAE\n",
    "ax2.plot(history.history['mae'], label='Training MAE')\n",
    "ax2.plot(history.history['val_mae'], label='Validation MAE')\n",
    "ax2.set_title('Model MAE')\n",
    "ax2.set_xlabel('Epoch')\n",
    "ax2.set_ylabel('MAE')\n",
    "ax2.legend()\n",
    "\n",
    "plt.tight_layout()\n",
    "plt.show()\n"
   ]
  },
  {
   "cell_type": "code",
   "execution_count": 25,
   "metadata": {
    "execution": {
     "iopub.execute_input": "2024-11-21T14:09:20.742978Z",
     "iopub.status.busy": "2024-11-21T14:09:20.742549Z",
     "iopub.status.idle": "2024-11-21T14:09:20.838205Z",
     "shell.execute_reply": "2024-11-21T14:09:20.836806Z",
     "shell.execute_reply.started": "2024-11-21T14:09:20.742942Z"
    },
    "trusted": true
   },
   "outputs": [
    {
     "name": "stdout",
     "output_type": "stream",
     "text": [
      "\n",
      "Test Loss: 0.0096\n",
      "Test MAE: 0.0819\n"
     ]
    }
   ],
   "source": [
    "# Evaluasi model\n",
    "test_loss, test_mae = model.evaluate(X_test, y_test, verbose=0)\n",
    "print(f'\\nTest Loss: {test_loss:.4f}')\n",
    "print(f'Test MAE: {test_mae:.4f}')"
   ]
  },
  {
   "cell_type": "code",
   "execution_count": 23,
   "metadata": {
    "execution": {
     "iopub.execute_input": "2024-11-21T14:09:13.078367Z",
     "iopub.status.busy": "2024-11-21T14:09:13.077723Z",
     "iopub.status.idle": "2024-11-21T14:09:13.202477Z",
     "shell.execute_reply": "2024-11-21T14:09:13.201275Z",
     "shell.execute_reply.started": "2024-11-21T14:09:13.078298Z"
    },
    "trusted": true
   },
   "outputs": [
    {
     "name": "stdout",
     "output_type": "stream",
     "text": [
      "\u001b[1m1/1\u001b[0m \u001b[32m━━━━━━━━━━━━━━━━━━━━\u001b[0m\u001b[37m\u001b[0m \u001b[1m0s\u001b[0m 64ms/step\n",
      "R²: 0.9915950911029303\n"
     ]
    }
   ],
   "source": [
    "# Prediksi pada data uji\n",
    "y_pred_acc = model.predict(X_test)\n",
    "\n",
    "# Menghitung R²\n",
    "r2 = r2_score(y_test, y_pred_acc)\n",
    "print(f'R²: {r2}')"
   ]
  },
  {
   "cell_type": "code",
   "execution_count": 26,
   "metadata": {
    "execution": {
     "iopub.execute_input": "2024-11-21T14:09:23.664404Z",
     "iopub.status.busy": "2024-11-21T14:09:23.663205Z",
     "iopub.status.idle": "2024-11-21T14:09:23.709776Z",
     "shell.execute_reply": "2024-11-21T14:09:23.708498Z",
     "shell.execute_reply.started": "2024-11-21T14:09:23.664316Z"
    },
    "trusted": true
   },
   "outputs": [
    {
     "name": "stderr",
     "output_type": "stream",
     "text": [
      "WARNING:absl:You are saving your model as an HDF5 file via `model.save()` or `keras.saving.save_model(model)`. This file format is considered legacy. We recommend using instead the native Keras format, e.g. `model.save('my_model.keras')` or `keras.saving.save_model(model, 'my_model.keras')`. \n"
     ]
    },
    {
     "name": "stdout",
     "output_type": "stream",
     "text": [
      "\n",
      "Model dan komponen pendukung telah disimpan di models\\baby_nutrition!\n"
     ]
    }
   ],
   "source": [
    "MODEL_DIR = os.path.join(\"models\", \"baby_nutrition\")\n",
    "\n",
    "os.makedirs(MODEL_DIR, exist_ok=True)\n",
    "\n",
    "model_path_h5 = os.path.join(MODEL_DIR, \"baby_nutrition_model.h5\")\n",
    "model_path_keras = os.path.join(MODEL_DIR, \"baby_nutrition_model.keras\")\n",
    "scaler_x_path = os.path.join(MODEL_DIR, \"scaler_X.save\")\n",
    "scaler_y_path = os.path.join(MODEL_DIR, \"scaler_y.save\")\n",
    "encoders_path = os.path.join(MODEL_DIR, \"encoders.save\")\n",
    "\n",
    "# Save semua komponen\n",
    "try:\n",
    "    # Save model dalam 2 format\n",
    "    model.save(model_path_h5)\n",
    "    model.save(model_path_keras)\n",
    "    \n",
    "    # Save scalers dan encoders\n",
    "    joblib.dump(scaler_X, scaler_x_path)\n",
    "    joblib.dump(scaler_y, scaler_y_path)\n",
    "    joblib.dump(encoders, encoders_path)\n",
    "    \n",
    "    print(f\"\\nModel dan komponen pendukung telah disimpan di {MODEL_DIR}!\")\n",
    "\n",
    "except Exception as e:\n",
    "    print(f\"Error saat menyimpan: {str(e)}\")"
   ]
  },
  {
   "cell_type": "markdown",
   "metadata": {},
   "source": [
    "## LOAD MODEL"
   ]
  },
  {
   "cell_type": "code",
   "execution_count": null,
   "metadata": {
    "execution": {
     "iopub.execute_input": "2024-11-20T03:09:19.552723Z",
     "iopub.status.busy": "2024-11-20T03:09:19.551591Z",
     "iopub.status.idle": "2024-11-20T03:09:19.628080Z",
     "shell.execute_reply": "2024-11-20T03:09:19.626944Z",
     "shell.execute_reply.started": "2024-11-20T03:09:19.552671Z"
    },
    "trusted": true
   },
   "outputs": [
    {
     "name": "stdout",
     "output_type": "stream",
     "text": [
      "Model, scaler, dan encoders berhasil dimuat!\n"
     ]
    },
    {
     "name": "stderr",
     "output_type": "stream",
     "text": [
      "d:\\Development\\Python\\Python312\\Lib\\site-packages\\keras\\src\\saving\\saving_lib.py:757: UserWarning: Skipping variable loading for optimizer 'rmsprop', because it has 10 variables whereas the saved optimizer has 18 variables. \n",
      "  saveable.load_own_variables(weights_store.get(inner_path))\n"
     ]
    }
   ],
   "source": [
    "# Load model\n",
    "# model = load_model('/kaggle/working/baby_nutrition_model.h5')\n",
    "# model = load_model('baby_nutrition_model.keras')\n",
    "\n",
    "# # Load scaler\n",
    "# scaler_X = joblib.load('scaler_X.save')\n",
    "# scaler_y = joblib.load('scaler_y.save')\n",
    "\n",
    "# # Load encoders\n",
    "# encoders = joblib.load('encoders.save')\n",
    "\n",
    "# print(\"Model, scaler, dan encoders berhasil dimuat!\")\n",
    "\n",
    "MODEL_DIR = os.path.join(\"models\", \"baby_nutrition\")\n",
    "\n",
    "# Pastikan folder exists\n",
    "os.makedirs(MODEL_DIR, exist_ok=True)\n",
    "model_path_h5 = os.path.join(MODEL_DIR, \"baby_nutrition_model.h5\")\n",
    "model_path_keras = os.path.join(MODEL_DIR, \"baby_nutrition_model.keras\")\n",
    "scaler_x_path = os.path.join(MODEL_DIR, \"scaler_X.save\")\n",
    "scaler_y_path = os.path.join(MODEL_DIR, \"scaler_y.save\")\n",
    "encoders_path = os.path.join(MODEL_DIR, \"encoders.save\")\n",
    "\n",
    "# Untuk load model nanti:\n",
    "def load_baby_nutrition_model():\n",
    "    try:\n",
    "        # Load model (pilih salah satu format)\n",
    "        model = load_model(model_path_h5)  # atau model_path_keras\n",
    "        \n",
    "        # Load scalers dan encoders\n",
    "        scaler_X = joblib.load(scaler_x_path)\n",
    "        scaler_y = joblib.load(scaler_y_path)\n",
    "        encoders = joblib.load(encoders_path)\n",
    "        \n",
    "        return {\n",
    "            'model': model,\n",
    "            'scaler_X': scaler_X,\n",
    "            'scaler_y': scaler_y,\n",
    "            'encoders': encoders\n",
    "        }\n",
    "        \n",
    "    except Exception as e:\n",
    "        print(f\"Error saat loading model: {str(e)}\")\n",
    "        return None"
   ]
  },
  {
   "cell_type": "code",
   "execution_count": 27,
   "metadata": {},
   "outputs": [
    {
     "data": {
      "text/html": [
       "<pre style=\"white-space:pre;overflow-x:auto;line-height:normal;font-family:Menlo,'DejaVu Sans Mono',consolas,'Courier New',monospace\"><span style=\"font-weight: bold\">Model: \"sequential_3\"</span>\n",
       "</pre>\n"
      ],
      "text/plain": [
       "\u001b[1mModel: \"sequential_3\"\u001b[0m\n"
      ]
     },
     "metadata": {},
     "output_type": "display_data"
    },
    {
     "data": {
      "text/html": [
       "<pre style=\"white-space:pre;overflow-x:auto;line-height:normal;font-family:Menlo,'DejaVu Sans Mono',consolas,'Courier New',monospace\">┏━━━━━━━━━━━━━━━━━━━━━━━━━━━━━━━━━┳━━━━━━━━━━━━━━━━━━━━━━━━┳━━━━━━━━━━━━━━━┓\n",
       "┃<span style=\"font-weight: bold\"> Layer (type)                    </span>┃<span style=\"font-weight: bold\"> Output Shape           </span>┃<span style=\"font-weight: bold\">       Param # </span>┃\n",
       "┡━━━━━━━━━━━━━━━━━━━━━━━━━━━━━━━━━╇━━━━━━━━━━━━━━━━━━━━━━━━╇━━━━━━━━━━━━━━━┩\n",
       "│ dense_12 (<span style=\"color: #0087ff; text-decoration-color: #0087ff\">Dense</span>)                │ (<span style=\"color: #00d7ff; text-decoration-color: #00d7ff\">None</span>, <span style=\"color: #00af00; text-decoration-color: #00af00\">64</span>)             │           <span style=\"color: #00af00; text-decoration-color: #00af00\">448</span> │\n",
       "├─────────────────────────────────┼────────────────────────┼───────────────┤\n",
       "│ dropout_6 (<span style=\"color: #0087ff; text-decoration-color: #0087ff\">Dropout</span>)             │ (<span style=\"color: #00d7ff; text-decoration-color: #00d7ff\">None</span>, <span style=\"color: #00af00; text-decoration-color: #00af00\">64</span>)             │             <span style=\"color: #00af00; text-decoration-color: #00af00\">0</span> │\n",
       "├─────────────────────────────────┼────────────────────────┼───────────────┤\n",
       "│ dense_13 (<span style=\"color: #0087ff; text-decoration-color: #0087ff\">Dense</span>)                │ (<span style=\"color: #00d7ff; text-decoration-color: #00d7ff\">None</span>, <span style=\"color: #00af00; text-decoration-color: #00af00\">32</span>)             │         <span style=\"color: #00af00; text-decoration-color: #00af00\">2,080</span> │\n",
       "├─────────────────────────────────┼────────────────────────┼───────────────┤\n",
       "│ dropout_7 (<span style=\"color: #0087ff; text-decoration-color: #0087ff\">Dropout</span>)             │ (<span style=\"color: #00d7ff; text-decoration-color: #00d7ff\">None</span>, <span style=\"color: #00af00; text-decoration-color: #00af00\">32</span>)             │             <span style=\"color: #00af00; text-decoration-color: #00af00\">0</span> │\n",
       "├─────────────────────────────────┼────────────────────────┼───────────────┤\n",
       "│ dense_14 (<span style=\"color: #0087ff; text-decoration-color: #0087ff\">Dense</span>)                │ (<span style=\"color: #00d7ff; text-decoration-color: #00d7ff\">None</span>, <span style=\"color: #00af00; text-decoration-color: #00af00\">16</span>)             │           <span style=\"color: #00af00; text-decoration-color: #00af00\">528</span> │\n",
       "├─────────────────────────────────┼────────────────────────┼───────────────┤\n",
       "│ dense_15 (<span style=\"color: #0087ff; text-decoration-color: #0087ff\">Dense</span>)                │ (<span style=\"color: #00d7ff; text-decoration-color: #00d7ff\">None</span>, <span style=\"color: #00af00; text-decoration-color: #00af00\">4</span>)              │            <span style=\"color: #00af00; text-decoration-color: #00af00\">68</span> │\n",
       "└─────────────────────────────────┴────────────────────────┴───────────────┘\n",
       "</pre>\n"
      ],
      "text/plain": [
       "┏━━━━━━━━━━━━━━━━━━━━━━━━━━━━━━━━━┳━━━━━━━━━━━━━━━━━━━━━━━━┳━━━━━━━━━━━━━━━┓\n",
       "┃\u001b[1m \u001b[0m\u001b[1mLayer (type)                   \u001b[0m\u001b[1m \u001b[0m┃\u001b[1m \u001b[0m\u001b[1mOutput Shape          \u001b[0m\u001b[1m \u001b[0m┃\u001b[1m \u001b[0m\u001b[1m      Param #\u001b[0m\u001b[1m \u001b[0m┃\n",
       "┡━━━━━━━━━━━━━━━━━━━━━━━━━━━━━━━━━╇━━━━━━━━━━━━━━━━━━━━━━━━╇━━━━━━━━━━━━━━━┩\n",
       "│ dense_12 (\u001b[38;5;33mDense\u001b[0m)                │ (\u001b[38;5;45mNone\u001b[0m, \u001b[38;5;34m64\u001b[0m)             │           \u001b[38;5;34m448\u001b[0m │\n",
       "├─────────────────────────────────┼────────────────────────┼───────────────┤\n",
       "│ dropout_6 (\u001b[38;5;33mDropout\u001b[0m)             │ (\u001b[38;5;45mNone\u001b[0m, \u001b[38;5;34m64\u001b[0m)             │             \u001b[38;5;34m0\u001b[0m │\n",
       "├─────────────────────────────────┼────────────────────────┼───────────────┤\n",
       "│ dense_13 (\u001b[38;5;33mDense\u001b[0m)                │ (\u001b[38;5;45mNone\u001b[0m, \u001b[38;5;34m32\u001b[0m)             │         \u001b[38;5;34m2,080\u001b[0m │\n",
       "├─────────────────────────────────┼────────────────────────┼───────────────┤\n",
       "│ dropout_7 (\u001b[38;5;33mDropout\u001b[0m)             │ (\u001b[38;5;45mNone\u001b[0m, \u001b[38;5;34m32\u001b[0m)             │             \u001b[38;5;34m0\u001b[0m │\n",
       "├─────────────────────────────────┼────────────────────────┼───────────────┤\n",
       "│ dense_14 (\u001b[38;5;33mDense\u001b[0m)                │ (\u001b[38;5;45mNone\u001b[0m, \u001b[38;5;34m16\u001b[0m)             │           \u001b[38;5;34m528\u001b[0m │\n",
       "├─────────────────────────────────┼────────────────────────┼───────────────┤\n",
       "│ dense_15 (\u001b[38;5;33mDense\u001b[0m)                │ (\u001b[38;5;45mNone\u001b[0m, \u001b[38;5;34m4\u001b[0m)              │            \u001b[38;5;34m68\u001b[0m │\n",
       "└─────────────────────────────────┴────────────────────────┴───────────────┘\n"
      ]
     },
     "metadata": {},
     "output_type": "display_data"
    },
    {
     "data": {
      "text/html": [
       "<pre style=\"white-space:pre;overflow-x:auto;line-height:normal;font-family:Menlo,'DejaVu Sans Mono',consolas,'Courier New',monospace\"><span style=\"font-weight: bold\"> Total params: </span><span style=\"color: #00af00; text-decoration-color: #00af00\">9,374</span> (36.62 KB)\n",
       "</pre>\n"
      ],
      "text/plain": [
       "\u001b[1m Total params: \u001b[0m\u001b[38;5;34m9,374\u001b[0m (36.62 KB)\n"
      ]
     },
     "metadata": {},
     "output_type": "display_data"
    },
    {
     "data": {
      "text/html": [
       "<pre style=\"white-space:pre;overflow-x:auto;line-height:normal;font-family:Menlo,'DejaVu Sans Mono',consolas,'Courier New',monospace\"><span style=\"font-weight: bold\"> Trainable params: </span><span style=\"color: #00af00; text-decoration-color: #00af00\">3,124</span> (12.20 KB)\n",
       "</pre>\n"
      ],
      "text/plain": [
       "\u001b[1m Trainable params: \u001b[0m\u001b[38;5;34m3,124\u001b[0m (12.20 KB)\n"
      ]
     },
     "metadata": {},
     "output_type": "display_data"
    },
    {
     "data": {
      "text/html": [
       "<pre style=\"white-space:pre;overflow-x:auto;line-height:normal;font-family:Menlo,'DejaVu Sans Mono',consolas,'Courier New',monospace\"><span style=\"font-weight: bold\"> Non-trainable params: </span><span style=\"color: #00af00; text-decoration-color: #00af00\">0</span> (0.00 B)\n",
       "</pre>\n"
      ],
      "text/plain": [
       "\u001b[1m Non-trainable params: \u001b[0m\u001b[38;5;34m0\u001b[0m (0.00 B)\n"
      ]
     },
     "metadata": {},
     "output_type": "display_data"
    },
    {
     "data": {
      "text/html": [
       "<pre style=\"white-space:pre;overflow-x:auto;line-height:normal;font-family:Menlo,'DejaVu Sans Mono',consolas,'Courier New',monospace\"><span style=\"font-weight: bold\"> Optimizer params: </span><span style=\"color: #00af00; text-decoration-color: #00af00\">6,250</span> (24.42 KB)\n",
       "</pre>\n"
      ],
      "text/plain": [
       "\u001b[1m Optimizer params: \u001b[0m\u001b[38;5;34m6,250\u001b[0m (24.42 KB)\n"
      ]
     },
     "metadata": {},
     "output_type": "display_data"
    },
    {
     "name": "stdout",
     "output_type": "stream",
     "text": [
      "(None, 6)\n",
      "(None, 4)\n"
     ]
    }
   ],
   "source": [
    "model.summary()\n",
    "print(model.input_shape)\n",
    "print(model.output_shape)"
   ]
  },
  {
   "cell_type": "markdown",
   "metadata": {},
   "source": [
    "## EXAMPLE"
   ]
  },
  {
   "cell_type": "code",
   "execution_count": 1,
   "metadata": {
    "execution": {
     "iopub.execute_input": "2024-11-21T14:09:34.903802Z",
     "iopub.status.busy": "2024-11-21T14:09:34.903326Z",
     "iopub.status.idle": "2024-11-21T14:09:34.912601Z",
     "shell.execute_reply": "2024-11-21T14:09:34.911130Z",
     "shell.execute_reply.started": "2024-11-21T14:09:34.903760Z"
    },
    "trusted": true
   },
   "outputs": [],
   "source": [
    "# Fungsi prediksi\n",
    "def predict_nutrition(usia_bulan, gender, berat_kg, tinggi_cm, aktivitas_level, status_asi):\n",
    "    # Membuat DataFrame dari input dengan nama kolom yang sesuai\n",
    "    input_df = pd.DataFrame({\n",
    "        'Usia_Bulan': [usia_bulan],\n",
    "        'Gender': [gender],\n",
    "        'Berat_Kg': [berat_kg],\n",
    "        'Tinggi_Cm': [tinggi_cm],\n",
    "        'Aktivitas_Level': [aktivitas_level],\n",
    "        'Status_ASI': [status_asi]\n",
    "    })\n",
    "    \n",
    "    # Skalasi input\n",
    "    input_scaled = scaler_X.transform(input_df)\n",
    "    \n",
    "    # Prediksi menggunakan model yang sudah dilatih\n",
    "    pred_scaled = model.predict(input_scaled)\n",
    "    \n",
    "    # Invers transformasi output untuk mendapatkan nilai asli\n",
    "    prediction = scaler_y.inverse_transform(pred_scaled)\n",
    "    \n",
    "    return {\n",
    "        'Kebutuhan_Kalori': max(0, prediction[0][0]),\n",
    "        'Kebutuhan_Protein': max(0, prediction[0][1]),\n",
    "        'Kebutuhan_Lemak': max(0, prediction[0][2]),\n",
    "        'Kebutuhan_Karbohidrat': max(0, prediction[0][3])\n",
    "    }\n"
   ]
  },
  {
   "cell_type": "code",
   "execution_count": 29,
   "metadata": {
    "execution": {
     "iopub.execute_input": "2024-11-21T14:09:36.874528Z",
     "iopub.status.busy": "2024-11-21T14:09:36.873991Z",
     "iopub.status.idle": "2024-11-21T14:09:36.890157Z",
     "shell.execute_reply": "2024-11-21T14:09:36.888866Z",
     "shell.execute_reply.started": "2024-11-21T14:09:36.874480Z"
    },
    "trusted": true
   },
   "outputs": [],
   "source": [
    "def evaluate_daily_intake(predicted_needs, consumed_foods_by_meal, df_food):\n",
    "    \"\"\"\n",
    "    consumed_foods_by_meal harus berupa dictionary dengan format:\n",
    "    {\n",
    "        1: ['Makanan1', 'Makanan2'],  # Makan pagi\n",
    "        2: ['Makanan3', 'Makanan4'],  # Makan siang\n",
    "        3: ['Makanan5', 'Makanan6']   # Makan malam\n",
    "    }\n",
    "    \"\"\"\n",
    "    # Inisialisasi total nutrisi yang dikonsumsi\n",
    "    total_consumed = {\n",
    "        'calories': 0,\n",
    "        'proteins': 0,\n",
    "        'fat': 0,\n",
    "        'carbohydrate': 0\n",
    "    }\n",
    "    \n",
    "    # Inisialisasi nutrisi per waktu makan\n",
    "    meals_nutrition = {\n",
    "        1: {'calories': 0, 'proteins': 0, 'fat': 0, 'carbohydrate': 0, 'foods': []},\n",
    "        2: {'calories': 0, 'proteins': 0, 'fat': 0, 'carbohydrate': 0, 'foods': []},\n",
    "        3: {'calories': 0, 'proteins': 0, 'fat': 0, 'carbohydrate': 0, 'foods': []}\n",
    "    }\n",
    "    \n",
    "    # Mapping nama nutrisi Indonesia-Inggris\n",
    "    nutrient_mapping = {\n",
    "        'Kalori': 'calories',\n",
    "        'Protein': 'proteins',\n",
    "        'Lemak': 'fat',\n",
    "        'Karbohidrat': 'carbohydrate'\n",
    "    }\n",
    "    \n",
    "    # Hitung nutrisi untuk setiap waktu makan\n",
    "    for meal_time, foods in consumed_foods_by_meal.items():\n",
    "        for food_name in foods:\n",
    "            food_data = df_food[df_food['name'].str.strip().str.lower() == food_name.strip().lower()]\n",
    "            \n",
    "            if not food_data.empty:\n",
    "                food_row = food_data.iloc[0]\n",
    "                # Tambahkan ke total\n",
    "                for eng_name in total_consumed.keys():\n",
    "                    total_consumed[eng_name] += food_row[eng_name]\n",
    "                    meals_nutrition[meal_time][eng_name] += food_row[eng_name]\n",
    "                \n",
    "                # Tambahkan detail makanan\n",
    "                meals_nutrition[meal_time]['foods'].append({\n",
    "                    'name': food_name,\n",
    "                    'calories': food_row['calories'],\n",
    "                    'proteins': food_row['proteins'],\n",
    "                    'fat': food_row['fat'],\n",
    "                    'carbohydrate': food_row['carbohydrate']\n",
    "                })\n",
    "            else:\n",
    "                print(f\"WARNING: Makanan '{food_name}' tidak ditemukan dalam database!\")\n",
    "    \n",
    "    # Hitung persentase pemenuhan kebutuhan\n",
    "    percentage_fulfilled = {}\n",
    "    for indo_name, eng_name in nutrient_mapping.items():\n",
    "        need_key = f'Kebutuhan_{indo_name}'\n",
    "        if predicted_needs[need_key] > 0:\n",
    "            percentage_fulfilled[indo_name] = (total_consumed[eng_name] / predicted_needs[need_key]) * 100\n",
    "        else:\n",
    "            percentage_fulfilled[indo_name] = 0\n",
    "    \n",
    "    # Buat feedback\n",
    "    feedback = {\n",
    "        'ringkasan': {},\n",
    "        'detail_per_meal': meals_nutrition,\n",
    "        'rekomendasi': []\n",
    "    }\n",
    "    \n",
    "    # Evaluasi setiap nutrisi\n",
    "    all_within_limits = True\n",
    "    for indo_name, eng_name in nutrient_mapping.items():\n",
    "        percentage = percentage_fulfilled[indo_name]\n",
    "        need_key = f'Kebutuhan_{indo_name}'\n",
    "        \n",
    "        upper_limit = 120\n",
    "        if indo_name == 'Protein':\n",
    "            upper_limit = 200\n",
    "        \n",
    "        if percentage < 80:\n",
    "            status = \"KURANG\"\n",
    "            all_within_limits = False\n",
    "            selisih = predicted_needs[need_key] - total_consumed[eng_name]\n",
    "            feedback['rekomendasi'].append(\n",
    "                f\"Asupan {indo_name} masih kurang ({percentage:.1f}%). \"\n",
    "                f\"Perlu tambahan {indo_name.lower()} sebesar {selisih:.1f} unit.\"\n",
    "            )\n",
    "        elif 80 <= percentage <= upper_limit:\n",
    "            status = \"IDEAL\"\n",
    "        else:\n",
    "            status = \"BERLEBIH\"\n",
    "            all_within_limits = False\n",
    "            selisih = total_consumed[eng_name] - predicted_needs[need_key]\n",
    "            feedback['rekomendasi'].append(\n",
    "                f\"Asupan {indo_name} berlebih ({percentage:.1f}%). \"\n",
    "                f\"Kurangi {indo_name.lower()} sebesar {selisih:.1f} unit.\"\n",
    "            )\n",
    "        \n",
    "        feedback['ringkasan'][indo_name] = {\n",
    "            'kebutuhan': predicted_needs[need_key],\n",
    "            'konsumsi': total_consumed[eng_name],\n",
    "            'persentase': percentage,\n",
    "            'status': status\n",
    "        }\n",
    "    \n",
    "    if all_within_limits:\n",
    "        feedback['rekomendasi'].append(\n",
    "            \"Selamat! Asupan nutrisi Anda sudah sangat baik dan seimbang. \"\n",
    "            \"Pertahankan pola makan seperti ini untuk kesehatan yang optimal.\"\n",
    "        )\n",
    "    \n",
    "    return feedback"
   ]
  },
  {
   "cell_type": "code",
   "execution_count": 30,
   "metadata": {
    "execution": {
     "iopub.execute_input": "2024-11-21T14:09:40.976507Z",
     "iopub.status.busy": "2024-11-21T14:09:40.976074Z",
     "iopub.status.idle": "2024-11-21T14:09:40.986792Z",
     "shell.execute_reply": "2024-11-21T14:09:40.985310Z",
     "shell.execute_reply.started": "2024-11-21T14:09:40.976470Z"
    },
    "trusted": true
   },
   "outputs": [],
   "source": [
    "def print_nutrition_feedback(feedback):\n",
    "    print(\"\\n\" + \"=\"*50)\n",
    "    print(\"EVALUASI ASUPAN NUTRISI HARIAN\".center(50))\n",
    "    print(\"=\"*50)\n",
    "    \n",
    "    print(\"\\nRINGKASAN TOTAL HARIAN:\")\n",
    "    print(\"-\" * 50)\n",
    "    for nutrient, data in feedback['ringkasan'].items():\n",
    "        print(f\"\\n{nutrient}:\")\n",
    "        print(f\"Kebutuhan  : {data['kebutuhan']:.1f}\")\n",
    "        print(f\"Konsumsi   : {data['konsumsi']:.1f}\")\n",
    "        print(f\"Persentase : {data['persentase']:.1f}%\")\n",
    "        print(f\"Status     : {data['status']}\")\n",
    "    \n",
    "    print(\"\\nDETAIL PER WAKTU MAKAN:\")\n",
    "    print(\"-\" * 50)\n",
    "    meal_names = {1: \"PAGI\", 2: \"SIANG\", 3: \"MALAM\"}\n",
    "    \n",
    "    for meal_time, meal_data in feedback['detail_per_meal'].items():\n",
    "        print(f\"\\nMAKAN {meal_names[meal_time]}:\")\n",
    "        print(f\"Kalori     : {meal_data['calories']:.1f}\")\n",
    "        print(f\"Protein    : {meal_data['proteins']:.1f}\")\n",
    "        print(f\"Lemak      : {meal_data['fat']:.1f}\")\n",
    "        print(f\"Karbohidrat: {meal_data['carbohydrate']:.1f}\")\n",
    "        \n",
    "        print(\"\\nMakanan yang dikonsumsi:\")\n",
    "        for food in meal_data['foods']:\n",
    "            print(f\"- {food['name']}\")\n",
    "    \n",
    "    print(\"\\nREKOMENDASI:\")\n",
    "    print(\"-\" * 50)\n",
    "    if feedback['rekomendasi']:\n",
    "        for rekomendasi in feedback['rekomendasi']:\n",
    "            print(f\"- {rekomendasi}\")"
   ]
  },
  {
   "cell_type": "code",
   "execution_count": 31,
   "metadata": {
    "execution": {
     "iopub.execute_input": "2024-11-21T14:09:43.452604Z",
     "iopub.status.busy": "2024-11-21T14:09:43.452146Z",
     "iopub.status.idle": "2024-11-21T14:09:43.459682Z",
     "shell.execute_reply": "2024-11-21T14:09:43.458170Z",
     "shell.execute_reply.started": "2024-11-21T14:09:43.452566Z"
    },
    "trusted": true
   },
   "outputs": [],
   "source": [
    "def extract_age_range(age_group):\n",
    "    # Mengambil angka dari string age group\n",
    "    numbers = re.findall(r'\\d+', age_group)\n",
    "    if len(numbers) >= 2:\n",
    "        return int(numbers[0]), int(numbers[1])\n",
    "    return 0, 0\n",
    "\n",
    "def is_age_appropriate(food_age_group, baby_age_months):\n",
    "    start_age, end_age = extract_age_range(food_age_group)\n",
    "    return start_age <= baby_age_months <= end_age"
   ]
  },
  {
   "cell_type": "code",
   "execution_count": 32,
   "metadata": {
    "execution": {
     "iopub.execute_input": "2024-11-21T14:09:44.985613Z",
     "iopub.status.busy": "2024-11-21T14:09:44.985091Z",
     "iopub.status.idle": "2024-11-21T14:09:45.010810Z",
     "shell.execute_reply": "2024-11-21T14:09:45.009601Z",
     "shell.execute_reply.started": "2024-11-21T14:09:44.985573Z"
    },
    "trusted": true
   },
   "outputs": [],
   "source": [
    "def recommend_foods(predicted_needs, df_food, baby_age_months, max_items=3, meals_per_day=3):\n",
    "    # Filter makanan berdasarkan umur\n",
    "    df_food_filtered = df_food[df_food['Age_Group'].apply(lambda x: is_age_appropriate(x, baby_age_months))].copy()\n",
    "    \n",
    "    # Jika bayi masih ASI (dibawah 6 bulan), berikan rekomendasi khusus\n",
    "    if baby_age_months <= 6:\n",
    "        return recommend_exclusive_breastfeeding(predicted_needs)\n",
    "    \n",
    "    # Bagi kebutuhan nutrisi per hari menjadi 3 kali makan\n",
    "    target_per_meal = {\n",
    "        'calories': predicted_needs['Kebutuhan_Kalori'] / meals_per_day,\n",
    "        'proteins': predicted_needs['Kebutuhan_Protein'] / meals_per_day,\n",
    "        'fat': predicted_needs['Kebutuhan_Lemak'] / meals_per_day,\n",
    "        'carbs': predicted_needs['Kebutuhan_Karbohidrat'] / meals_per_day\n",
    "    }\n",
    "    \n",
    "    # Buat problem optimasi untuk setiap waktu makan\n",
    "    meal_recommendations = []\n",
    "    for meal_num in range(meals_per_day):\n",
    "        prob = LpProblem(f\"Food_Recommendation_Meal_{meal_num}\", LpMinimize)\n",
    "        \n",
    "        # Buat variabel keputusan untuk setiap makanan (0 atau 1)\n",
    "        food_vars = LpVariable.dicts(\"food\",\n",
    "                                   ((i) for i in range(len(df_food_filtered))),\n",
    "                                   0, 1, LpBinary)\n",
    "        \n",
    "        # Variabel deviasi\n",
    "        pos_dev_cal = LpVariable(f\"pos_dev_cal_{meal_num}\", 0)\n",
    "        neg_dev_cal = LpVariable(f\"neg_dev_cal_{meal_num}\", 0)\n",
    "        \n",
    "        # Fungsi objektif\n",
    "        prob += pos_dev_cal + neg_dev_cal\n",
    "        \n",
    "        # Constraints\n",
    "        prob += lpSum([df_food_filtered.iloc[i]['calories'] * food_vars[i] \n",
    "                      for i in range(len(df_food_filtered))]) - target_per_meal['calories'] == pos_dev_cal - neg_dev_cal\n",
    "        \n",
    "        # Batasan jumlah item\n",
    "        prob += lpSum([food_vars[i] for i in range(len(df_food_filtered))]) >= 1\n",
    "        prob += lpSum([food_vars[i] for i in range(len(df_food_filtered))]) <= max_items\n",
    "        \n",
    "        # Batasan nutrisi per meal\n",
    "        prob += lpSum([df_food_filtered.iloc[i]['calories'] * food_vars[i] \n",
    "                      for i in range(len(df_food_filtered))]) >= 0.8 * target_per_meal['calories']\n",
    "        prob += lpSum([df_food_filtered.iloc[i]['calories'] * food_vars[i] \n",
    "                      for i in range(len(df_food_filtered))]) <= 1.2 * target_per_meal['calories']\n",
    "        \n",
    "        # Solve\n",
    "        prob.solve(PULP_CBC_CMD(msg=False))\n",
    "        \n",
    "        # Collect results\n",
    "        meal_foods = []\n",
    "        meal_nutrients = {\n",
    "            'calories': 0,\n",
    "            'proteins': 0,\n",
    "            'fat': 0,\n",
    "            'carbohydrate': 0\n",
    "        }\n",
    "        \n",
    "        for i in range(len(df_food_filtered)):\n",
    "            if food_vars[i].value() == 1:\n",
    "                food = {\n",
    "                    'name': df_food_filtered.iloc[i]['name'],\n",
    "                    'calories': df_food_filtered.iloc[i]['calories'],\n",
    "                    'proteins': df_food_filtered.iloc[i]['proteins'],\n",
    "                    'fat': df_food_filtered.iloc[i]['fat'],\n",
    "                    'carbohydrate': df_food_filtered.iloc[i]['carbohydrate'],\n",
    "                    'age_group': df_food_filtered.iloc[i]['Age_Group']\n",
    "                }\n",
    "                meal_foods.append(food)\n",
    "                \n",
    "                for nutrient in meal_nutrients:\n",
    "                    meal_nutrients[nutrient] += food[nutrient]\n",
    "        \n",
    "        meal_recommendations.append({\n",
    "            'meal_number': meal_num + 1,\n",
    "            'foods': meal_foods,\n",
    "            'nutrients': meal_nutrients\n",
    "        })\n",
    "    \n",
    "    # Calculate total nutrients\n",
    "    total_nutrients = {\n",
    "        'calories': 0,\n",
    "        'proteins': 0,\n",
    "        'fat': 0,\n",
    "        'carbohydrate': 0\n",
    "    }\n",
    "    \n",
    "    for meal in meal_recommendations:\n",
    "        for nutrient in total_nutrients:\n",
    "            total_nutrients[nutrient] += meal['nutrients'][nutrient]\n",
    "    \n",
    "    return {\n",
    "        'meal_recommendations': meal_recommendations,\n",
    "        'total_nutrients': total_nutrients,\n",
    "        'target_nutrients': predicted_needs,\n",
    "        'age_months': baby_age_months\n",
    "    }\n",
    "\n",
    "def recommend_exclusive_breastfeeding(predicted_needs):\n",
    "    # Rekomendasi khusus untuk bayi di bawah 6 bulan\n",
    "    return {\n",
    "        'meal_recommendations': [\n",
    "            {\n",
    "                'meal_number': i + 1,\n",
    "                'foods': [{'name': 'ASI', 'portion': 'On demand'}],\n",
    "                'nutrients': {\n",
    "                    'calories': predicted_needs['Kebutuhan_Kalori'] / 3,\n",
    "                    'proteins': predicted_needs['Kebutuhan_Protein'] / 3,\n",
    "                    'fat': predicted_needs['Kebutuhan_Lemak'] / 3,\n",
    "                    'carbohydrate': predicted_needs['Kebutuhan_Karbohidrat'] / 3\n",
    "                }\n",
    "            } for i in range(3)\n",
    "        ],\n",
    "        'total_nutrients': {\n",
    "            'calories': predicted_needs['Kebutuhan_Kalori'],\n",
    "            'proteins': predicted_needs['Kebutuhan_Protein'],\n",
    "            'fat': predicted_needs['Kebutuhan_Lemak'],\n",
    "            'carbohydrate': predicted_needs['Kebutuhan_Karbohidrat']\n",
    "        },\n",
    "        'target_nutrients': predicted_needs,\n",
    "        'age_months': 'Under 6 months'\n",
    "    }\n",
    "\n",
    "# Fungsi untuk menampilkan rekomendasi\n",
    "def display_recommendations(recommendations):\n",
    "    print(f\"\\nRekomendasi Makanan untuk Usia {recommendations['age_months']} bulan:\")\n",
    "    print(\"\\nTarget Nutrisi Harian:\")\n",
    "    print(f\"Kalori: {recommendations['target_nutrients']['Kebutuhan_Kalori']:.1f} kcal\")\n",
    "    print(f\"Protein: {recommendations['target_nutrients']['Kebutuhan_Protein']:.1f} g\")\n",
    "    print(f\"Lemak: {recommendations['target_nutrients']['Kebutuhan_Lemak']:.1f} g\")\n",
    "    print(f\"Karbohidrat: {recommendations['target_nutrients']['Kebutuhan_Karbohidrat']:.1f} g\")\n",
    "    \n",
    "    print(\"\\nRekomendasi per Waktu Makan:\")\n",
    "    for meal in recommendations['meal_recommendations']:\n",
    "        print(f\"\\nMakan ke-{meal['meal_number']}:\")\n",
    "        for food in meal['foods']:\n",
    "            print(f\"- {food['name']}\")\n",
    "            if 'portion' in food:\n",
    "                print(f\"  Porsi: {food['portion']}\")\n",
    "            else:\n",
    "                print(f\"  Kalori: {food['calories']:.1f} kcal\")\n",
    "                print(f\"  Protein: {food['proteins']:.1f} g\")\n",
    "                print(f\"  Lemak: {food['fat']:.1f} g\")\n",
    "                print(f\"  Karbohidrat: {food['carbohydrate']:.1f} g\")\n",
    "    \n",
    "    print(\"\\nTotal Nutrisi dari Rekomendasi:\")\n",
    "    if isinstance(recommendations['total_nutrients'], dict):\n",
    "        print(f\"Kalori: {recommendations['total_nutrients']['calories']:.1f} kcal\")\n",
    "        print(f\"Protein: {recommendations['total_nutrients']['proteins']:.1f} g\")\n",
    "        print(f\"Lemak: {recommendations['total_nutrients']['fat']:.1f} g\")\n",
    "        print(f\"Karbohidrat: {recommendations['total_nutrients']['carbohydrate']:.1f} g\")\n",
    "    else:\n",
    "        print(f\"Kalori: {recommendations['total_nutrients']['Kebutuhan_Kalori']:.1f} kcal\")\n",
    "        print(f\"Protein: {recommendations['total_nutrients']['Kebutuhan_Protein']:.1f} g\")\n",
    "        print(f\"Lemak: {recommendations['total_nutrients']['Kebutuhan_Lemak']:.1f} g\")\n",
    "        print(f\"Karbohidrat: {recommendations['total_nutrients']['Kebutuhan_Karbohidrat']:.1f} g\")"
   ]
  },
  {
   "cell_type": "code",
   "execution_count": 33,
   "metadata": {
    "execution": {
     "iopub.execute_input": "2024-11-21T14:09:49.142711Z",
     "iopub.status.busy": "2024-11-21T14:09:49.142290Z",
     "iopub.status.idle": "2024-11-21T14:09:49.293746Z",
     "shell.execute_reply": "2024-11-21T14:09:49.292063Z",
     "shell.execute_reply.started": "2024-11-21T14:09:49.142677Z"
    },
    "trusted": true
   },
   "outputs": [
    {
     "name": "stdout",
     "output_type": "stream",
     "text": [
      "WARNING:tensorflow:5 out of the last 5 calls to <function TensorFlowTrainer.make_predict_function.<locals>.one_step_on_data_distributed at 0x000001C8B86BFA60> triggered tf.function retracing. Tracing is expensive and the excessive number of tracings could be due to (1) creating @tf.function repeatedly in a loop, (2) passing tensors with different shapes, (3) passing Python objects instead of tensors. For (1), please define your @tf.function outside of the loop. For (2), @tf.function has reduce_retracing=True option that can avoid unnecessary retracing. For (3), please refer to https://www.tensorflow.org/guide/function#controlling_retracing and https://www.tensorflow.org/api_docs/python/tf/function for  more details.\n"
     ]
    },
    {
     "name": "stderr",
     "output_type": "stream",
     "text": [
      "WARNING:tensorflow:5 out of the last 5 calls to <function TensorFlowTrainer.make_predict_function.<locals>.one_step_on_data_distributed at 0x000001C8B86BFA60> triggered tf.function retracing. Tracing is expensive and the excessive number of tracings could be due to (1) creating @tf.function repeatedly in a loop, (2) passing tensors with different shapes, (3) passing Python objects instead of tensors. For (1), please define your @tf.function outside of the loop. For (2), @tf.function has reduce_retracing=True option that can avoid unnecessary retracing. For (3), please refer to https://www.tensorflow.org/guide/function#controlling_retracing and https://www.tensorflow.org/api_docs/python/tf/function for  more details.\n"
     ]
    },
    {
     "name": "stdout",
     "output_type": "stream",
     "text": [
      "\u001b[1m1/1\u001b[0m \u001b[32m━━━━━━━━━━━━━━━━━━━━\u001b[0m\u001b[37m\u001b[0m \u001b[1m0s\u001b[0m 120ms/step\n",
      "\n",
      "==================================================\n",
      "          EVALUASI ASUPAN NUTRISI HARIAN          \n",
      "==================================================\n",
      "\n",
      "RINGKASAN TOTAL HARIAN:\n",
      "--------------------------------------------------\n",
      "\n",
      "Kalori:\n",
      "Kebutuhan  : 885.5\n",
      "Konsumsi   : 725.0\n",
      "Persentase : 81.9%\n",
      "Status     : IDEAL\n",
      "\n",
      "Protein:\n",
      "Kebutuhan  : 19.5\n",
      "Konsumsi   : 19.3\n",
      "Persentase : 99.1%\n",
      "Status     : IDEAL\n",
      "\n",
      "Lemak:\n",
      "Kebutuhan  : 62.0\n",
      "Konsumsi   : 6.1\n",
      "Persentase : 9.8%\n",
      "Status     : KURANG\n",
      "\n",
      "Karbohidrat:\n",
      "Kebutuhan  : 97.0\n",
      "Konsumsi   : 148.0\n",
      "Persentase : 152.6%\n",
      "Status     : BERLEBIH\n",
      "\n",
      "DETAIL PER WAKTU MAKAN:\n",
      "--------------------------------------------------\n",
      "\n",
      "MAKAN PAGI:\n",
      "Kalori     : 301.0\n",
      "Protein    : 8.6\n",
      "Lemak      : 2.9\n",
      "Karbohidrat: 60.0\n",
      "\n",
      "Makanan yang dikonsumsi:\n",
      "- Nasi Tim Saring\n",
      "- Bubur Ayam Saring\n",
      "- Pure Kentang\n",
      "\n",
      "MAKAN SIANG:\n",
      "Kalori     : 200.0\n",
      "Protein    : 4.1\n",
      "Lemak      : 0.4\n",
      "Karbohidrat: 45.0\n",
      "\n",
      "Makanan yang dikonsumsi:\n",
      "- Nasi Tim Saring\n",
      "- Pure Kentang\n",
      "\n",
      "MAKAN MALAM:\n",
      "Kalori     : 224.0\n",
      "Protein    : 6.6\n",
      "Lemak      : 2.8\n",
      "Karbohidrat: 43.0\n",
      "\n",
      "Makanan yang dikonsumsi:\n",
      "- Nasi Tim Saring\n",
      "- Bubur Ayam Saring\n",
      "\n",
      "REKOMENDASI:\n",
      "--------------------------------------------------\n",
      "- Asupan Lemak masih kurang (9.8%). Perlu tambahan lemak sebesar 55.9 unit.\n",
      "- Asupan Karbohidrat berlebih (152.6%). Kurangi karbohidrat sebesar 51.0 unit.\n"
     ]
    }
   ],
   "source": [
    "# Contoh penggunaan:\n",
    "usia_bayi=12\n",
    "# Prediksi kebutuhan nutrisi\n",
    "sample_prediction = predict_nutrition(\n",
    "    usia_bulan=usia_bayi,\n",
    "    gender=1,\n",
    "    berat_kg=9,\n",
    "    tinggi_cm=74,\n",
    "    aktivitas_level=1,\n",
    "    status_asi=1\n",
    ")\n",
    "\n",
    "\n",
    "# 460,9.5,32,49\n",
    "# sample_prediction = predict_nutrition(\n",
    "#     usia_bulan=usia_bayi,\n",
    "#     gender=1,\n",
    "#     berat_kg=4,\n",
    "#     tinggi_cm=53,\n",
    "#     aktivitas_level=1,\n",
    "#     status_asi=1\n",
    "# )\n",
    "\n",
    "consumed_foods_by_meal = {\n",
    "    1: ['Nasi Tim Saring', 'Bubur Ayam Saring', 'Pure Kentang'],  # Makan pagi\n",
    "    2: ['Nasi Tim Saring', 'Pure Kentang'],                # Makan siang\n",
    "    3: ['Nasi Tim Saring', 'Bubur Ayam Saring', ]    # Makan malam\n",
    "}\n",
    "\n",
    "feedback = evaluate_daily_intake(sample_prediction, consumed_foods_by_meal, df_food)\n",
    "print_nutrition_feedback(feedback)"
   ]
  },
  {
   "cell_type": "code",
   "execution_count": 34,
   "metadata": {
    "execution": {
     "iopub.execute_input": "2024-11-21T14:09:52.999284Z",
     "iopub.status.busy": "2024-11-21T14:09:52.998695Z",
     "iopub.status.idle": "2024-11-21T14:09:53.372612Z",
     "shell.execute_reply": "2024-11-21T14:09:53.371295Z",
     "shell.execute_reply.started": "2024-11-21T14:09:52.999235Z"
    },
    "trusted": true
   },
   "outputs": [
    {
     "name": "stdout",
     "output_type": "stream",
     "text": [
      "\n",
      "Rekomendasi Makanan untuk Usia 12 bulan:\n",
      "\n",
      "Target Nutrisi Harian:\n",
      "Kalori: 885.5 kcal\n",
      "Protein: 19.5 g\n",
      "Lemak: 62.0 g\n",
      "Karbohidrat: 97.0 g\n",
      "\n",
      "Rekomendasi per Waktu Makan:\n",
      "\n",
      "Makan ke-1:\n",
      "- Tim Ikan Giling\n",
      "  Kalori: 74.0 kcal\n",
      "  Protein: 16.0 g\n",
      "  Lemak: 1.0 g\n",
      "  Karbohidrat: 0.0 g\n",
      "- Oatmeal Bayi\n",
      "  Kalori: 71.0 kcal\n",
      "  Protein: 2.4 g\n",
      "  Lemak: 1.4 g\n",
      "  Karbohidrat: 12.0 g\n",
      "- Bubur Pisang Keju\n",
      "  Kalori: 150.0 kcal\n",
      "  Protein: 3.5 g\n",
      "  Lemak: 4.5 g\n",
      "  Karbohidrat: 22.0 g\n",
      "\n",
      "Makan ke-2:\n",
      "- Tim Ikan Giling\n",
      "  Kalori: 74.0 kcal\n",
      "  Protein: 16.0 g\n",
      "  Lemak: 1.0 g\n",
      "  Karbohidrat: 0.0 g\n",
      "- Oatmeal Bayi\n",
      "  Kalori: 71.0 kcal\n",
      "  Protein: 2.4 g\n",
      "  Lemak: 1.4 g\n",
      "  Karbohidrat: 12.0 g\n",
      "- Bubur Pisang Keju\n",
      "  Kalori: 150.0 kcal\n",
      "  Protein: 3.5 g\n",
      "  Lemak: 4.5 g\n",
      "  Karbohidrat: 22.0 g\n",
      "\n",
      "Makan ke-3:\n",
      "- Tim Ikan Giling\n",
      "  Kalori: 74.0 kcal\n",
      "  Protein: 16.0 g\n",
      "  Lemak: 1.0 g\n",
      "  Karbohidrat: 0.0 g\n",
      "- Oatmeal Bayi\n",
      "  Kalori: 71.0 kcal\n",
      "  Protein: 2.4 g\n",
      "  Lemak: 1.4 g\n",
      "  Karbohidrat: 12.0 g\n",
      "- Bubur Pisang Keju\n",
      "  Kalori: 150.0 kcal\n",
      "  Protein: 3.5 g\n",
      "  Lemak: 4.5 g\n",
      "  Karbohidrat: 22.0 g\n",
      "\n",
      "Total Nutrisi dari Rekomendasi:\n",
      "Kalori: 885.0 kcal\n",
      "Protein: 65.7 g\n",
      "Lemak: 20.7 g\n",
      "Karbohidrat: 102.0 g\n"
     ]
    }
   ],
   "source": [
    "recommendations = recommend_foods(sample_prediction, df_food, baby_age_months=usia_bayi)\n",
    "display_recommendations(recommendations)"
   ]
  },
  {
   "cell_type": "code",
   "execution_count": 35,
   "metadata": {
    "execution": {
     "iopub.execute_input": "2024-11-21T14:18:13.670800Z",
     "iopub.status.busy": "2024-11-21T14:18:13.668982Z"
    },
    "trusted": true
   },
   "outputs": [
    {
     "name": "stdout",
     "output_type": "stream",
     "text": [
      "Requirement already satisfied: pipreqs in d:\\development\\python\\python312\\lib\\site-packages (0.5.0)\n",
      "Requirement already satisfied: docopt==0.6.2 in d:\\development\\python\\python312\\lib\\site-packages (from pipreqs) (0.6.2)\n",
      "Requirement already satisfied: ipython==8.12.3 in d:\\development\\python\\python312\\lib\\site-packages (from pipreqs) (8.12.3)\n",
      "Requirement already satisfied: nbconvert<8.0.0,>=7.11.0 in d:\\development\\python\\python312\\lib\\site-packages (from pipreqs) (7.16.4)\n",
      "Requirement already satisfied: yarg==0.1.9 in d:\\development\\python\\python312\\lib\\site-packages (from pipreqs) (0.1.9)\n",
      "Requirement already satisfied: backcall in d:\\development\\python\\python312\\lib\\site-packages (from ipython==8.12.3->pipreqs) (0.2.0)\n",
      "Requirement already satisfied: decorator in d:\\development\\python\\python312\\lib\\site-packages (from ipython==8.12.3->pipreqs) (5.1.1)\n",
      "Requirement already satisfied: jedi>=0.16 in d:\\development\\python\\python312\\lib\\site-packages (from ipython==8.12.3->pipreqs) (0.19.2)\n",
      "Requirement already satisfied: matplotlib-inline in d:\\development\\python\\python312\\lib\\site-packages (from ipython==8.12.3->pipreqs) (0.1.7)\n",
      "Requirement already satisfied: pickleshare in d:\\development\\python\\python312\\lib\\site-packages (from ipython==8.12.3->pipreqs) (0.7.5)\n",
      "Requirement already satisfied: prompt-toolkit!=3.0.37,<3.1.0,>=3.0.30 in d:\\development\\python\\python312\\lib\\site-packages (from ipython==8.12.3->pipreqs) (3.0.48)\n",
      "Requirement already satisfied: pygments>=2.4.0 in d:\\development\\python\\python312\\lib\\site-packages (from ipython==8.12.3->pipreqs) (2.18.0)\n",
      "Requirement already satisfied: stack-data in d:\\development\\python\\python312\\lib\\site-packages (from ipython==8.12.3->pipreqs) (0.6.3)\n",
      "Requirement already satisfied: traitlets>=5 in d:\\development\\python\\python312\\lib\\site-packages (from ipython==8.12.3->pipreqs) (5.14.3)\n",
      "Requirement already satisfied: colorama in d:\\development\\python\\python312\\lib\\site-packages (from ipython==8.12.3->pipreqs) (0.4.6)\n",
      "Requirement already satisfied: requests in d:\\development\\python\\python312\\lib\\site-packages (from yarg==0.1.9->pipreqs) (2.32.3)\n",
      "Requirement already satisfied: beautifulsoup4 in d:\\development\\python\\python312\\lib\\site-packages (from nbconvert<8.0.0,>=7.11.0->pipreqs) (4.12.3)\n",
      "Requirement already satisfied: bleach!=5.0.0 in d:\\development\\python\\python312\\lib\\site-packages (from nbconvert<8.0.0,>=7.11.0->pipreqs) (6.2.0)\n",
      "Requirement already satisfied: defusedxml in d:\\development\\python\\python312\\lib\\site-packages (from nbconvert<8.0.0,>=7.11.0->pipreqs) (0.7.1)\n",
      "Requirement already satisfied: jinja2>=3.0 in d:\\development\\python\\python312\\lib\\site-packages (from nbconvert<8.0.0,>=7.11.0->pipreqs) (3.1.4)\n",
      "Requirement already satisfied: jupyter-core>=4.7 in d:\\development\\python\\python312\\lib\\site-packages (from nbconvert<8.0.0,>=7.11.0->pipreqs) (5.7.2)\n",
      "Requirement already satisfied: jupyterlab-pygments in d:\\development\\python\\python312\\lib\\site-packages (from nbconvert<8.0.0,>=7.11.0->pipreqs) (0.3.0)\n",
      "Requirement already satisfied: markupsafe>=2.0 in d:\\development\\python\\python312\\lib\\site-packages (from nbconvert<8.0.0,>=7.11.0->pipreqs) (3.0.2)\n",
      "Requirement already satisfied: mistune<4,>=2.0.3 in d:\\development\\python\\python312\\lib\\site-packages (from nbconvert<8.0.0,>=7.11.0->pipreqs) (3.0.2)\n",
      "Requirement already satisfied: nbclient>=0.5.0 in d:\\development\\python\\python312\\lib\\site-packages (from nbconvert<8.0.0,>=7.11.0->pipreqs) (0.10.1)\n",
      "Requirement already satisfied: nbformat>=5.7 in d:\\development\\python\\python312\\lib\\site-packages (from nbconvert<8.0.0,>=7.11.0->pipreqs) (5.10.4)\n",
      "Requirement already satisfied: packaging in d:\\development\\python\\python312\\lib\\site-packages (from nbconvert<8.0.0,>=7.11.0->pipreqs) (24.2)\n",
      "Requirement already satisfied: pandocfilters>=1.4.1 in d:\\development\\python\\python312\\lib\\site-packages (from nbconvert<8.0.0,>=7.11.0->pipreqs) (1.5.1)\n",
      "Requirement already satisfied: tinycss2 in d:\\development\\python\\python312\\lib\\site-packages (from nbconvert<8.0.0,>=7.11.0->pipreqs) (1.4.0)\n",
      "Requirement already satisfied: webencodings in d:\\development\\python\\python312\\lib\\site-packages (from bleach!=5.0.0->nbconvert<8.0.0,>=7.11.0->pipreqs) (0.5.1)\n",
      "Requirement already satisfied: parso<0.9.0,>=0.8.4 in d:\\development\\python\\python312\\lib\\site-packages (from jedi>=0.16->ipython==8.12.3->pipreqs) (0.8.4)\n",
      "Requirement already satisfied: platformdirs>=2.5 in d:\\development\\python\\python312\\lib\\site-packages (from jupyter-core>=4.7->nbconvert<8.0.0,>=7.11.0->pipreqs) (4.3.6)\n",
      "Requirement already satisfied: pywin32>=300 in d:\\development\\python\\python312\\lib\\site-packages (from jupyter-core>=4.7->nbconvert<8.0.0,>=7.11.0->pipreqs) (308)\n",
      "Requirement already satisfied: jupyter-client>=6.1.12 in d:\\development\\python\\python312\\lib\\site-packages (from nbclient>=0.5.0->nbconvert<8.0.0,>=7.11.0->pipreqs) (8.6.3)\n",
      "Requirement already satisfied: fastjsonschema>=2.15 in d:\\development\\python\\python312\\lib\\site-packages (from nbformat>=5.7->nbconvert<8.0.0,>=7.11.0->pipreqs) (2.21.1)\n",
      "Requirement already satisfied: jsonschema>=2.6 in d:\\development\\python\\python312\\lib\\site-packages (from nbformat>=5.7->nbconvert<8.0.0,>=7.11.0->pipreqs) (4.23.0)\n",
      "Requirement already satisfied: wcwidth in d:\\development\\python\\python312\\lib\\site-packages (from prompt-toolkit!=3.0.37,<3.1.0,>=3.0.30->ipython==8.12.3->pipreqs) (0.2.13)\n",
      "Requirement already satisfied: soupsieve>1.2 in d:\\development\\python\\python312\\lib\\site-packages (from beautifulsoup4->nbconvert<8.0.0,>=7.11.0->pipreqs) (2.6)\n",
      "Requirement already satisfied: charset-normalizer<4,>=2 in d:\\development\\python\\python312\\lib\\site-packages (from requests->yarg==0.1.9->pipreqs) (3.4.0)\n",
      "Requirement already satisfied: idna<4,>=2.5 in d:\\development\\python\\python312\\lib\\site-packages (from requests->yarg==0.1.9->pipreqs) (3.10)\n",
      "Requirement already satisfied: urllib3<3,>=1.21.1 in d:\\development\\python\\python312\\lib\\site-packages (from requests->yarg==0.1.9->pipreqs) (2.2.3)\n",
      "Requirement already satisfied: certifi>=2017.4.17 in d:\\development\\python\\python312\\lib\\site-packages (from requests->yarg==0.1.9->pipreqs) (2024.8.30)\n",
      "Requirement already satisfied: executing>=1.2.0 in d:\\development\\python\\python312\\lib\\site-packages (from stack-data->ipython==8.12.3->pipreqs) (2.1.0)\n",
      "Requirement already satisfied: asttokens>=2.1.0 in d:\\development\\python\\python312\\lib\\site-packages (from stack-data->ipython==8.12.3->pipreqs) (3.0.0)\n",
      "Requirement already satisfied: pure-eval in d:\\development\\python\\python312\\lib\\site-packages (from stack-data->ipython==8.12.3->pipreqs) (0.2.3)\n",
      "Requirement already satisfied: attrs>=22.2.0 in d:\\development\\python\\python312\\lib\\site-packages (from jsonschema>=2.6->nbformat>=5.7->nbconvert<8.0.0,>=7.11.0->pipreqs) (24.2.0)\n",
      "Requirement already satisfied: jsonschema-specifications>=2023.03.6 in d:\\development\\python\\python312\\lib\\site-packages (from jsonschema>=2.6->nbformat>=5.7->nbconvert<8.0.0,>=7.11.0->pipreqs) (2024.10.1)\n",
      "Requirement already satisfied: referencing>=0.28.4 in d:\\development\\python\\python312\\lib\\site-packages (from jsonschema>=2.6->nbformat>=5.7->nbconvert<8.0.0,>=7.11.0->pipreqs) (0.35.1)\n",
      "Requirement already satisfied: rpds-py>=0.7.1 in d:\\development\\python\\python312\\lib\\site-packages (from jsonschema>=2.6->nbformat>=5.7->nbconvert<8.0.0,>=7.11.0->pipreqs) (0.21.0)\n",
      "Requirement already satisfied: python-dateutil>=2.8.2 in d:\\development\\python\\python312\\lib\\site-packages (from jupyter-client>=6.1.12->nbclient>=0.5.0->nbconvert<8.0.0,>=7.11.0->pipreqs) (2.9.0.post0)\n",
      "Requirement already satisfied: pyzmq>=23.0 in d:\\development\\python\\python312\\lib\\site-packages (from jupyter-client>=6.1.12->nbclient>=0.5.0->nbconvert<8.0.0,>=7.11.0->pipreqs) (26.2.0)\n",
      "Requirement already satisfied: tornado>=6.2 in d:\\development\\python\\python312\\lib\\site-packages (from jupyter-client>=6.1.12->nbclient>=0.5.0->nbconvert<8.0.0,>=7.11.0->pipreqs) (6.4.2)\n",
      "Requirement already satisfied: six>=1.5 in d:\\development\\python\\python312\\lib\\site-packages (from python-dateutil>=2.8.2->jupyter-client>=6.1.12->nbclient>=0.5.0->nbconvert<8.0.0,>=7.11.0->pipreqs) (1.16.0)\n"
     ]
    }
   ],
   "source": [
    "!pip install pipreqs"
   ]
  }
 ],
 "metadata": {
  "kaggle": {
   "accelerator": "none",
   "dataSources": [
    {
     "datasetId": 3936204,
     "sourceId": 6846904,
     "sourceType": "datasetVersion"
    },
    {
     "datasetId": 6088879,
     "sourceId": 9909857,
     "sourceType": "datasetVersion"
    },
    {
     "datasetId": 6123756,
     "sourceId": 9956819,
     "sourceType": "datasetVersion"
    }
   ],
   "dockerImageVersionId": 30786,
   "isGpuEnabled": false,
   "isInternetEnabled": true,
   "language": "python",
   "sourceType": "notebook"
  },
  "kernelspec": {
   "display_name": "Python 3",
   "language": "python",
   "name": "python3"
  },
  "language_info": {
   "codemirror_mode": {
    "name": "ipython",
    "version": 3
   },
   "file_extension": ".py",
   "mimetype": "text/x-python",
   "name": "python",
   "nbconvert_exporter": "python",
   "pygments_lexer": "ipython3",
   "version": "3.12.7"
  }
 },
 "nbformat": 4,
 "nbformat_minor": 4
}
