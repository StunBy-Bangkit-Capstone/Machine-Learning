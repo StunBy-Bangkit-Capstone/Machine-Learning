{
 "cells": [
  {
   "cell_type": "markdown",
   "metadata": {},
   "source": [
    "# CALCULATION OF Z-SCORE FOR INFANT NUTRITIONAL STATUS CLASSIFICATION"
   ]
  },
  {
   "cell_type": "code",
   "execution_count": null,
   "metadata": {
    "id": "0oToFHUiwCcU"
   },
   "outputs": [],
   "source": [
    "import pandas as pd"
   ]
  },
  {
   "cell_type": "code",
   "execution_count": null,
   "metadata": {
    "id": "FpwBhmVxwPQQ"
   },
   "outputs": [],
   "source": [
    "#dataset untuk indikator panjang/tinggi badan menurut umur\n",
    "boys_pb_02 = pd.read_excel('PB laki laki 0-2 thn.xlsx')\n",
    "boys_tb_25 = pd.read_excel('TB laki laki 2-5 thn.xlsx')\n",
    "girl_pb_02 = pd.read_excel('PB pr 0-2 thn.xlsx')\n",
    "girl_tb_25 = pd.read_excel('TB pr 2-5 thn.xlsx')\n",
    "\n",
    "#dataset untuk indikator berat badan menurut umur\n",
    "boys_bb = pd.read_excel('BB laki laki 0-5 thn.xlsx')\n",
    "girls_bb = pd.read_excel('BB pr 0-5 thn.xlsx')\n",
    "\n",
    "#dataset untuk indikator berat badan menurut panjang/tinggi badan\n",
    "boys_bb_pb02 = pd.read_excel('BB-PB laki-laki 0-2 thn.xlsx')\n",
    "boys_bb_pb25 = pd.read_excel('BB-TB laki-laki 2-5 thn.xlsx')\n",
    "girls_bb_pb02 = pd.read_excel('BB-PB pr 0-2 thn.xlsx')\n",
    "girls_bb_pb25 = pd.read_excel('BB-TB pr 2-5 thn.xlsx')\n",
    "\n",
    "#dataset untuk indikator Indeks Massa Tubuh menurut Umur\n",
    "boys_imt_02 = pd.read_excel('IMT laki laki 0-2 thn.xlsx')\n",
    "boys_imt_25 = pd.read_excel('IMT laki laki 2-5 thn.xlsx')\n",
    "girl_imt_02 = pd.read_excel('IMT pr 0-2 thn.xlsx')\n",
    "girl_imt_25 = pd.read_excel('IMT pr 2-5 thn.xlsx')"
   ]
  },
  {
   "cell_type": "code",
   "execution_count": null,
   "metadata": {
    "id": "q324P_IHwPSk"
   },
   "outputs": [],
   "source": [
    "# Fungsi untuk menghitung Z-score berdasarkan panjang/tinggi badan (length for age)\n",
    "def calculate_z_score_length(gender, age, length_baby):\n",
    "    if gender == \"male\":\n",
    "        if age < 24:\n",
    "            dataset = boys_pb_02\n",
    "        else:\n",
    "            dataset = boys_tb_25\n",
    "    elif gender == \"female\":\n",
    "        if age < 24:\n",
    "            dataset = girl_pb_02\n",
    "        else:\n",
    "            dataset = girl_tb_25\n",
    "    else:\n",
    "        raise ValueError(\"Gender harus 'male' atau 'female'\")\n",
    "\n",
    "    row = dataset[dataset['Umur'] == age]\n",
    "    if row.empty:\n",
    "        raise ValueError(f\"Data tidak ditemukan untuk umur {age} bulan.\")\n",
    "\n",
    "    median = row['Median'].values[0]\n",
    "    minus_1_sd = row['-1 SD'].values[0]\n",
    "    plus_1_sd = row['+1 SD'].values[0]\n",
    "\n",
    "    if length_baby < median:\n",
    "        z_score = (length_baby - median) / (median - minus_1_sd)\n",
    "    else:\n",
    "        z_score = (length_baby - median) / (plus_1_sd - median)\n",
    "\n",
    "    return z_score"
   ]
  },
  {
   "cell_type": "code",
   "execution_count": null,
   "metadata": {
    "id": "lXOUyVbw2BGg"
   },
   "outputs": [],
   "source": [
    "# Fungsi untuk klasifikasi status gizi berdasarkan Z-score panjang badan\n",
    "def classify_nutritional_status_length(z_score):\n",
    "    if z_score < -3:\n",
    "        return \"Sangat Pendek\"\n",
    "    elif -3 <= z_score < -2:\n",
    "        return \"Pendek\"\n",
    "    elif -2 <= z_score <= 3:\n",
    "        return \"Normal\"\n",
    "    elif z_score > 3:\n",
    "        return \"Tinggi\"\n",
    "    else:\n",
    "        return \"Tidak Diketahui\""
   ]
  },
  {
   "cell_type": "code",
   "execution_count": null,
   "metadata": {
    "id": "qlBxjq84wPVM"
   },
   "outputs": [],
   "source": [
    "# Fungsi untuk menghitung Z-score berdasarkan berat badan (weight for age)\n",
    "def calculate_z_score_weight(weight_baby, gender, age):\n",
    "    if gender == \"male\":\n",
    "        dataset = boys_bb\n",
    "    elif gender == \"female\":\n",
    "        dataset = girls_bb\n",
    "    else:\n",
    "        raise ValueError(\"Gender harus 'male' atau 'female'\")\n",
    "\n",
    "# Mencari baris yang sesuai dengan umur\n",
    "    data_row = dataset[dataset['Umur'] == age]\n",
    "# Mengambil nilai Median, -1 SD, dan +1 SD\n",
    "    if not data_row.empty:\n",
    "        median = data_row['Median'].values[0]\n",
    "        sd_minus_1 = data_row['-1 SD'].values[0]\n",
    "        sd_plus_1 = data_row['+1 SD'].values[0]\n",
    "\n",
    "# Menghitung Z-score\n",
    "        if weight_baby == median:\n",
    "            z_score = weight_baby - median\n",
    "        elif weight_baby < median:\n",
    "            z_score = (weight_baby - median) / (median - sd_minus_1)\n",
    "        else:\n",
    "            z_score = (weight_baby - median) / (sd_plus_1 - median)\n",
    "\n",
    "        return z_score\n",
    "    else:\n",
    "        return \"Data umur tidak ditemukan\""
   ]
  },
  {
   "cell_type": "code",
   "execution_count": null,
   "metadata": {
    "id": "dWwr2MtI2JAD"
   },
   "outputs": [],
   "source": [
    "# Fungsi untuk klasifikasi status gizi berdasarkan Z-score berat badan\n",
    "def classify_nutritional_status_weight(z_score):\n",
    "    if z_score < -3.0:\n",
    "        return \"Gizi Buruk\"\n",
    "    elif -3.0 <= z_score < -2.0:\n",
    "        return \"Gizi Kurang\"\n",
    "    elif -2.0 <= z_score <= 2.0:\n",
    "        return \"Gizi Baik\"\n",
    "    elif z_score > 2.0:\n",
    "        return \"Gizi Lebih\"\n",
    "    else:\n",
    "        return \"Kategori Tidak Diketahui\""
   ]
  },
  {
   "cell_type": "code",
   "execution_count": null,
   "metadata": {
    "id": "pekwQFXy2jZp"
   },
   "outputs": [],
   "source": [
    "# Fungsi untuk menghitung Z-score berdasarkan berat badan menurut panjang/tinggi badan\n",
    "def calculate_z_score_bb_tb(gender, age, length_baby, weight_baby):\n",
    "    # Menentukan dataset yang sesuai berdasarkan gender dan umur\n",
    "    if gender == \"male\":\n",
    "        if age < 24:  # Umur 0-2 tahun\n",
    "            dataset = boys_bb_pb02\n",
    "        else:  # Umur 2-5 tahun\n",
    "            dataset = boys_bb_pb25\n",
    "    elif gender == \"female\":\n",
    "        if age < 24:  # Umur 0-2 tahun\n",
    "            dataset = girls_bb_pb02\n",
    "        else:  # Umur 2-5 tahun\n",
    "            dataset = girls_bb_pb25\n",
    "    else:\n",
    "        raise ValueError(\"Gender harus 'male' atau 'female'\")\n",
    "\n",
    "    # Mencari baris yang sesuai dengan panjang badan\n",
    "    row = dataset[dataset['Tinggi Badan'] == length_baby]\n",
    "    if row.empty:\n",
    "        raise ValueError(f\"Data tidak ditemukan untuk panjang badan {length_baby} cm.\")\n",
    "\n",
    "    # Mengambil nilai Median, -1 SD, dan +1 SD\n",
    "    median = row['Median'].values[0]\n",
    "    minus_1_sd = row['-1 SD'].values[0]\n",
    "    plus_1_sd = row['+1 SD'].values[0]\n",
    "\n",
    "    # Menghitung Z-Score\n",
    "    if weight_baby == median:\n",
    "        z_score = weight_baby - median\n",
    "    elif weight_baby < median:\n",
    "        # Jika berat badan kurang dari median\n",
    "        z_score = (weight_baby - median) / (median - minus_1_sd)\n",
    "    else:\n",
    "        # Jika berat badan lebih besar dari median\n",
    "        z_score = (weight_baby - median) / (plus_1_sd - median)\n",
    "\n",
    "    return z_score"
   ]
  },
  {
   "cell_type": "code",
   "execution_count": null,
   "metadata": {
    "id": "aODWERva3Cmn"
   },
   "outputs": [],
   "source": [
    "# Fungsi untuk klasifikasi status gizi berdasarkan Z-score berat badan menurut panjang/tinggi badan\n",
    "def classify_nutritional_status_bb_tb(z_score):\n",
    "    if z_score < -3.0:\n",
    "        return \"Sangat Kurus\"\n",
    "    elif -3.0 <= z_score < -2.0:\n",
    "        return \"Kurus\"\n",
    "    elif -2.0 <= z_score <= 2.0:\n",
    "        return \"Normal\"\n",
    "    elif z_score > 2.0:\n",
    "        return \"Gemuk\"\n",
    "    else:\n",
    "        return \"Kategori Tidak Diketahui\""
   ]
  },
  {
   "cell_type": "code",
   "execution_count": null,
   "metadata": {
    "id": "h-tjEopi-Lrp"
   },
   "outputs": [],
   "source": [
    "# Fungsi untuk menghitung Z-score berdasarkan Indeks Massa Tubuh (IMT) menurut umur\n",
    "def calculate_z_score_imt(gender, age, weight_baby, length_baby):\n",
    "    # Menghitung IMT\n",
    "    length_m = length_baby / 100  # Konversi panjang badan dari cm ke meter\n",
    "    imt = weight_baby / (length_m ** 2)\n",
    "\n",
    "    # Memilih dataset berdasarkan gender dan umur\n",
    "    if gender == \"male\":\n",
    "        if age < 24:\n",
    "            dataset = boys_imt_02\n",
    "        else:\n",
    "            dataset = boys_imt_25\n",
    "    elif gender == \"female\":\n",
    "        if age < 24:\n",
    "            dataset = girl_imt_02\n",
    "        else:\n",
    "            dataset = girl_imt_25\n",
    "    else:\n",
    "        raise ValueError(\"Gender harus 'male' atau 'female'\")\n",
    "\n",
    "    # Mencari baris yang sesuai dengan umur\n",
    "    row = dataset[dataset['Umur'] == age]\n",
    "    if row.empty:\n",
    "        raise ValueError(f\"Data tidak ditemukan untuk umur {age} bulan.\")\n",
    "\n",
    "    # Mengambil nilai Median, -3 SD, -2 SD, +1 SD, +2 SD, dan +3 SD\n",
    "    median = row['Median'].values[0]\n",
    "    minus_3_sd = row['-3 SD'].values[0]\n",
    "    minus_2_sd = row['-2 SD'].values[0]\n",
    "    plus_1_sd = row['+1 SD'].values[0]\n",
    "    plus_2_sd = row['+2 SD'].values[0]\n",
    "    plus_3_sd = row['+3 SD'].values[0]\n",
    "\n",
    "    # Klasifikasi status gizi berdasarkan IMT\n",
    "    if imt < minus_3_sd:\n",
    "        status = \"Gizi Buruk (Severely Wasted)\"\n",
    "    elif minus_3_sd <= imt < minus_2_sd:\n",
    "        status = \"Gizi Kurang (Wasted)\"\n",
    "    elif minus_2_sd <= imt <= plus_1_sd:\n",
    "        status = \"Gizi Baik (Normal)\"\n",
    "    elif plus_1_sd < imt <= plus_2_sd:\n",
    "        status = \"Berisiko Gizi Lebih (Possible Risk of Overweight)\"\n",
    "    elif plus_2_sd < imt <= plus_3_sd:\n",
    "        status = \"Gizi Lebih (Overweight)\"\n",
    "    elif imt > plus_3_sd:\n",
    "        status = \"Obesitas (Obese)\"\n",
    "    else:\n",
    "        status = \"Kategori Tidak Diketahui\"\n",
    "\n",
    "    return imt, status"
   ]
  },
  {
   "cell_type": "code",
   "execution_count": null,
   "metadata": {
    "id": "caHL98rO2MHn"
   },
   "outputs": [],
   "source": [
    "def nutritional_status(gender, age, length_baby=None, weight_baby=None):\n",
    "    # Jika panjang badan diberikan\n",
    "    if length_baby is not None and weight_baby is None:\n",
    "        try:\n",
    "            z_score_length = calculate_z_score_length(gender, age, length_baby)\n",
    "            nutritional_status_length = classify_nutritional_status_length(z_score_length)\n",
    "            return f\"Panjang Badan - Z-score: {z_score_length:.2f}, Status Gizi: {nutritional_status_length}\"\n",
    "        except ValueError as e:\n",
    "            return str(e)\n",
    "\n",
    "    # Jika berat badan diberikan\n",
    "    if weight_baby is not None and length_baby is None:\n",
    "        try:\n",
    "            z_score_weight = calculate_z_score_weight(weight_baby, gender, age)\n",
    "            nutritional_status_weight = classify_nutritional_status_weight(z_score_weight)\n",
    "            return f\"Berat Badan - Z-score: {z_score_weight:.2f}, Status Gizi: {nutritional_status_weight}\"\n",
    "        except ValueError as e:\n",
    "            return str(e)\n",
    "\n",
    "    # Jika panjang badan dan berat badan keduanya diberikan (BB/TB)\n",
    "    if length_baby is not None and weight_baby is not None:\n",
    "        try:\n",
    "            # BB/TB (Weight-for-Length)\n",
    "            z_score_bb_tb = calculate_z_score_bb_tb(gender, age, length_baby, weight_baby)\n",
    "            status_bb_tb = classify_nutritional_status_bb_tb(z_score_bb_tb)\n",
    "            result = f\"BB/TB (Weight-for-Length) - Z-score: {z_score_bb_tb:.2f}, Status Gizi: {status_bb_tb}\"\n",
    "\n",
    "            # Menghitung IMT\n",
    "            imt, status_imt = calculate_z_score_imt(gender, age, weight_baby, length_baby)\n",
    "            result += f\"\\nIMT: {imt:.2f}, Status Gizi: {status_imt}\"\n",
    "\n",
    "            return result\n",
    "        except ValueError as e:\n",
    "            return str(e)\n",
    "\n",
    "    # Jika tidak ada data yang valid diberikan\n",
    "    return \"Data input tidak lengkap untuk menghitung status gizi.\"\n"
   ]
  },
  {
   "cell_type": "code",
   "execution_count": null,
   "metadata": {
    "colab": {
     "base_uri": "https://localhost:8080/"
    },
    "id": "xhmI3DWywPaF",
    "outputId": "740cf97d-be60-4164-d91c-b476339b54b8"
   },
   "outputs": [
    {
     "name": "stdout",
     "output_type": "stream",
     "text": [
      "Panjang Badan - Z-score: 0.38, Status Gizi: Normal\n",
      "Berat Badan - Z-score: 0.00, Status Gizi: Gizi Baik\n",
      "BB/TB (Weight-for-Length) - Z-score: -0.40, Status Gizi: Normal\n",
      "IMT: 15.43, Status Gizi: Gizi Baik (Normal)\n"
     ]
    }
   ],
   "source": [
    "# Menampilkan hasil status gizi berdasarkan panjang badan\n",
    "result_length = nutritional_status(gender, age, length_baby=length_baby)\n",
    "print(result_length)\n",
    "\n",
    "# Menampilkan hasil status gizi berdasarkan berat badan\n",
    "result_weight = nutritional_status(gender, age, weight_baby=weight_baby)\n",
    "print(result_weight)\n",
    "\n",
    "# Menampilkan hasil status gizi berdasarkan BB/TB (Weight-for-Length) dan IMT\n",
    "result_bb_tb = nutritional_status(gender, age, length_baby=length_baby, weight_baby=weight_baby)\n",
    "print(result_bb_tb)"
   ]
  },
  {
   "cell_type": "code",
   "execution_count": null,
   "metadata": {
    "id": "xdNs1JzuwPcH"
   },
   "outputs": [],
   "source": []
  },
  {
   "cell_type": "code",
   "execution_count": null,
   "metadata": {
    "id": "nwQIY99owPeO"
   },
   "outputs": [],
   "source": []
  },
  {
   "cell_type": "code",
   "execution_count": null,
   "metadata": {
    "id": "SBDDvKGswPgi"
   },
   "outputs": [],
   "source": []
  },
  {
   "cell_type": "code",
   "execution_count": null,
   "metadata": {
    "id": "Xx-VzT_TwPj7"
   },
   "outputs": [],
   "source": []
  }
 ],
 "metadata": {
  "colab": {
   "provenance": []
  },
  "kernelspec": {
   "display_name": "Python 3 (ipykernel)",
   "language": "python",
   "name": "python3"
  },
  "language_info": {
   "codemirror_mode": {
    "name": "ipython",
    "version": 3
   },
   "file_extension": ".py",
   "mimetype": "text/x-python",
   "name": "python",
   "nbconvert_exporter": "python",
   "pygments_lexer": "ipython3",
   "version": "3.10.10"
  }
 },
 "nbformat": 4,
 "nbformat_minor": 1
}
